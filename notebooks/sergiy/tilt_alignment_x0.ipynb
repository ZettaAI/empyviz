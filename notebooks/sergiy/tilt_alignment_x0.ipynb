{
 "cells": [
  {
   "cell_type": "code",
   "execution_count": null,
   "id": "dab95608-ea47-445a-b375-669229143a3a",
   "metadata": {
    "tags": []
   },
   "outputs": [],
   "source": [
    "import torch\n",
    "import torch.nn.functional as F\n",
    "\n",
    "from tqdm.notebook import tqdm\n",
    "\n",
    "import zetta_utils\n",
    "\n",
    "from zetta_utils.layer.volumetric.cloudvol import build_cv_layer\n",
    "from zetta_utils.viz.widgets import visualize_list\n",
    "from zetta_utils import tensor_ops\n",
    "from zetta_utils.alignment.online_finetuner import align_with_online_finetuner"
   ]
  },
  {
   "cell_type": "code",
   "execution_count": null,
   "id": "52864032-724d-46e9-abfd-475070fa8f4d",
   "metadata": {
    "tags": []
   },
   "outputs": [],
   "source": []
  },
  {
   "cell_type": "code",
   "execution_count": null,
   "id": "00213cbb-d517-4333-8847-2a075ba7d880",
   "metadata": {
    "tags": []
   },
   "outputs": [],
   "source": [
    "def norm(img):\n",
    "    result = img.clone().float()\n",
    "    result[result != 0] -= result[result != 0].mean()\n",
    "    result[result != 0] /= result[result != 0].std()\n",
    "    return result"
   ]
  },
  {
   "cell_type": "code",
   "execution_count": null,
   "id": "d4972620-bb5b-439f-9001-c0da67a443cd",
   "metadata": {},
   "outputs": [],
   "source": [
    "\n",
    "unaligned_path = 'gs://neuroglancer/kluther/tomography/jun23/Section_1_rawtilts'\n",
    "\n",
    "unaligned_raw = build_cv_layer(\n",
    "    path=unaligned_path,\n",
    "    default_desired_resolution=(1, 1, 1),\n",
    "    index_resolution=(1, 1, 1),\n",
    "    readonly=True,\n",
    "    cv_kwargs={'cache': True},\n",
    ")\n",
    "\n",
    "sections_raw = {}\n",
    "sections_norm = {}"
   ]
  },
  {
   "cell_type": "code",
   "execution_count": null,
   "id": "eb9c707e-7391-4c09-9545-45b6c2209cda",
   "metadata": {
    "tags": []
   },
   "outputs": [],
   "source": [
    "xy_size = 256\n",
    "downs_factor = 2\n",
    "\n",
    "for z in range(54, 75):\n",
    "    #if z not in sections_raw:\n",
    "        print (z)\n",
    "        sections_raw[z] = unaligned_raw[0:xy_size, 0:xy_size, z:z+1]\n",
    "        \n",
    "for k, v in sections_raw.items():\n",
    "    sections_norm[k] = norm(\n",
    "        tensor_ops.common.interpolate(\n",
    "            v, \n",
    "            scale_factor=(1/downs_factor, 1/downs_factor, 1), \n",
    "            mode=\"img\"\n",
    "        )\n",
    "    ).unsqueeze(0).squeeze(-1)"
   ]
  },
  {
   "cell_type": "code",
   "execution_count": null,
   "id": "79dcc256-d717-4c21-a8d1-a7b75c7054f9",
   "metadata": {
    "tags": []
   },
   "outputs": [],
   "source": [
    "def compute_affine_alignment_loss(src, tgt, theta):\n",
    "    grid = F.affine_grid(theta, src.size()).float()\n",
    "    src_warped = F.grid_sample(src, grid)\n",
    "    src_tissue_warped = F.grid_sample((src != 0).float(), grid) != 0\n",
    "    \n",
    "    mse_map = (src_warped - tgt).abs()\n",
    "    mse_mask = src_tissue_warped * (tgt != 0)\n",
    "    result = mse_map[mse_mask].sum()\n",
    "    return result\n",
    "\n",
    "def align_tilts(src, tgt, lr=1e-3, num_iter=100, theta=None):\n",
    "    if theta is None:\n",
    "        theta = torch.tensor(\n",
    "            [[[1, 0, 0], [0, 1, 0]]],\n",
    "            dtype=float,\n",
    "            requires_grad=True\n",
    "        )\n",
    "    else:\n",
    "        theta = theta.clone()\n",
    "        theta.requires_grad = True\n",
    "    \n",
    "    optimizer = torch.optim.Adam(\n",
    "        [theta],\n",
    "        lr=lr,\n",
    "    )\n",
    "\n",
    "\n",
    "    for i in range(num_iter):\n",
    "        loss = compute_affine_alignment_loss(\n",
    "            src=src,\n",
    "            tgt=tgt,\n",
    "            theta=theta\n",
    "        )\n",
    "        if loss < 0.005:\n",
    "            break\n",
    "        if i % 20 == 0:\n",
    "            print(loss)\n",
    "        optimizer.zero_grad()\n",
    "        loss.backward()\n",
    "        optimizer.step()\n",
    "        \n",
    "    return theta.detach()"
   ]
  },
  {
   "cell_type": "code",
   "execution_count": null,
   "id": "6746bcbf-696f-471f-b89f-c96a506901ca",
   "metadata": {
    "tags": []
   },
   "outputs": [],
   "source": [
    "inital_thetas = [\n",
    "    torch.tensor(\n",
    "        [[[1, 0, 0], [0, 1, 0]]],\n",
    "        dtype=float,\n",
    "    )\n",
    "    for z in range(128)\n",
    "]\n",
    "factor = (downs_factor * list(sections_norm.values())[0].shape[-1])\n",
    "inital_thetas[10] = torch.tensor(\n",
    "        [[[1, 0, 0], [0, 1, -255 / factor]]],\n",
    "        dtype=float,\n",
    "    ) \n",
    "\n",
    "inital_thetas[117] =  torch.tensor(\n",
    "        [[[1, 0, -30 / factor], [0, 1, 850 / factor]]],\n",
    "        dtype=float,\n",
    "    ) "
   ]
  },
  {
   "cell_type": "code",
   "execution_count": null,
   "id": "a82db638-f7c9-401b-bde2-b23bd8b9c706",
   "metadata": {
    "tags": []
   },
   "outputs": [],
   "source": [
    "z = 119\n",
    "src = sections_norm[z]\n",
    "tgt = sections_norm[z-1]\n",
    "grid = F.affine_grid(inital_thetas[z], src.size()).float()\n",
    "x = F.grid_sample(src, grid).float()\n",
    "visualize_list([x, src, tgt])"
   ]
  },
  {
   "cell_type": "code",
   "execution_count": null,
   "id": "7a1b0f43-ecca-47a5-97d8-5fbc38421a32",
   "metadata": {
    "tags": []
   },
   "outputs": [],
   "source": [
    "pairwise_thetas = {}"
   ]
  },
  {
   "cell_type": "code",
   "execution_count": null,
   "id": "1c469bd6-9e5e-46e5-b8ec-e0cb01ee7b7f",
   "metadata": {
    "tags": []
   },
   "outputs": [],
   "source": [
    "for z in range(73, 74):\n",
    "    #if z not in pairwise_thetas:\n",
    "        print (z)\n",
    "        src = sections_norm[z]\n",
    "        tgt = sections_norm[z-1]\n",
    "        pairwise_thetas[z] = align_tilts(src, tgt, theta=inital_thetas[z], num_iter=400, lr=1e-3)\n"
   ]
  },
  {
   "cell_type": "code",
   "execution_count": null,
   "id": "6f756cf4-c279-451c-b206-22108eab6f4d",
   "metadata": {
    "tags": []
   },
   "outputs": [],
   "source": [
    "src.shape"
   ]
  },
  {
   "cell_type": "code",
   "execution_count": null,
   "id": "396b6e42-04d7-44b2-8d37-53b1d5e5ddbc",
   "metadata": {
    "tags": []
   },
   "outputs": [],
   "source": [
    "field = align_with_online_finetuner(\n",
    "    src.squeeze(0).unsqueeze(-1), \n",
    "    tgt.squeeze(0).unsqueeze(-1),\n",
    "    sm=10\n",
    ").unsqueeze(0).squeeze(-1)"
   ]
  },
  {
   "cell_type": "code",
   "execution_count": null,
   "id": "215c5e6f-6143-40dc-a407-b538089c4241",
   "metadata": {
    "tags": []
   },
   "outputs": [],
   "source": [
    "src.shape, field.shape"
   ]
  },
  {
   "cell_type": "code",
   "execution_count": null,
   "id": "5fca0e1e-2025-4892-ba7b-de281961ee76",
   "metadata": {
    "tags": []
   },
   "outputs": [],
   "source": [
    "z = 73\n",
    "src = sections_norm[z]\n",
    "tgt = sections_norm[z-1]\n",
    "grid = F.affine_grid(pairwise_thetas[z], src.size()).float()\n",
    "x = F.grid_sample(src, grid).float()\n",
    "visualize_list([field.from_pixels()(src), x, src, tgt, field])"
   ]
  },
  {
   "cell_type": "code",
   "execution_count": null,
   "id": "739fa8df-e99a-4266-ab3a-5def1db34242",
   "metadata": {
    "tags": []
   },
   "outputs": [],
   "source": [
    "def add_last_row(x):\n",
    "    return torch.cat(\n",
    "        [\n",
    "            x,\n",
    "            torch.tensor(\n",
    "                [[[0, 0, 1]]],\n",
    "                dtype=float,\n",
    "            )\n",
    "        ], \n",
    "        1\n",
    "    )\n",
    "\n",
    "def compose_thetas(x, y):\n",
    "    x_ = add_last_row(x)\n",
    "    y_ = add_last_row(y)\n",
    "    return torch.matmul(x_, y_)[:, :-1]\n",
    "\n",
    "def invert_theta(x):\n",
    "    x_ = add_last_row(x)\n",
    "    return  torch.inverse(x_)[:, :-1]"
   ]
  },
  {
   "cell_type": "code",
   "execution_count": null,
   "id": "84530a5f-b87f-4788-89d6-bb00dfe655c0",
   "metadata": {
    "tags": []
   },
   "outputs": [],
   "source": [
    "mid_section = 64\n",
    "final_thetas = {\n",
    "    mid_section: torch.tensor(\n",
    "        [[[1, 0, 0], [0, 1, 0]]],\n",
    "        dtype=float,\n",
    "    )\n",
    "}\n",
    "start_section = 54\n",
    "end_section = 74\n",
    "aligned_imgs_norm = {64: sections_norm[64]}\n",
    "\n",
    "for z in range(mid_section + 1, end_section+1):\n",
    "    final_thetas[z] = compose_thetas(\n",
    "        pairwise_thetas[z],\n",
    "        final_thetas[z - 1],\n",
    "        \n",
    "    )\n",
    "    grid = F.affine_grid(final_thetas[z], src.size()).float()\n",
    "    aligned_imgs_norm[z] = F.grid_sample(sections_norm[z], grid).float()\n",
    "    \n",
    "for z in range(mid_section - 1, start_section-1, -1):\n",
    "    final_thetas[z] = compose_thetas(\n",
    "        invert_theta(pairwise_thetas[z + 1]),\n",
    "        final_thetas[z + 1],\n",
    "        \n",
    "    )\n",
    "    grid = F.affine_grid(final_thetas[z], src.size()).float()\n",
    "    aligned_imgs_norm[z] = F.grid_sample(sections_norm[z], grid).float()\n",
    "\n"
   ]
  },
  {
   "cell_type": "code",
   "execution_count": null,
   "id": "6cdef923-31ef-4fa6-8806-97a9b6448216",
   "metadata": {
    "tags": []
   },
   "outputs": [],
   "source": [
    "\n",
    "visualize_list([aligned_imgs_norm[z] for z in range(54, 74)])"
   ]
  },
  {
   "cell_type": "code",
   "execution_count": null,
   "id": "23d4c578-d293-407d-975b-1af57cc3616c",
   "metadata": {},
   "outputs": [],
   "source": [
    "import pickle\n",
    "with open(\"final_thetas_x1.pkl\", 'wb') as f:\n",
    "    pickle.dump(final_thetas, f)"
   ]
  },
  {
   "cell_type": "code",
   "execution_count": null,
   "id": "fb58e979-a99e-44cd-8d79-5b8166afb9e0",
   "metadata": {
    "tags": []
   },
   "outputs": [],
   "source": [
    "aligned_path = 'gs://tmp_2w/tomography/jun23/Section_1_rawtilts_aligned_x4'\n",
    "\n",
    "aligned = build_cv_layer(\n",
    "    path=aligned_path,\n",
    "    default_desired_resolution=(1, 1, 1),\n",
    "    index_resolution=(1, 1, 1),\n",
    "    info_chunk_size=(512, 512, 1),\n",
    "    info_reference_path=unaligned_path,\n",
    "    info_field_overrides={\n",
    "        'data_type': 'float32'\n",
    "    },\n",
    "    on_info_exists='override'\n",
    ")"
   ]
  },
  {
   "cell_type": "code",
   "execution_count": null,
   "id": "373f1a47-b1e9-4b0e-bdd1-50e8dac1bb74",
   "metadata": {
    "tags": []
   },
   "outputs": [],
   "source": [
    "for z in tqdm(range(start_section, end_section+1)):\n",
    "    img_raw = sections_raw[z].unsqueeze(0).squeeze(-1).float()\n",
    "    grid = F.affine_grid(final_thetas[z], img_raw.size()).float()\n",
    "    \n",
    "    aligned[0:xy_size, 0:xy_size, z:z+1] = F.grid_sample(img_raw, grid).float().squeeze(0).unsqueeze(-1)\n",
    "    \n",
    "        "
   ]
  },
  {
   "cell_type": "code",
   "execution_count": null,
   "id": "938fd046-703d-4db1-9f7c-23cb408f82dc",
   "metadata": {
    "tags": []
   },
   "outputs": [],
   "source": [
    "\"hi\""
   ]
  },
  {
   "cell_type": "code",
   "execution_count": null,
   "id": "2d5559eb-bf11-4d95-946a-727d246ab187",
   "metadata": {},
   "outputs": [],
   "source": []
  }
 ],
 "metadata": {
  "kernelspec": {
   "display_name": "Python (zetta-x8-p310)",
   "language": "python",
   "name": "zetta-x8-p310"
  },
  "language_info": {
   "codemirror_mode": {
    "name": "ipython",
    "version": 3
   },
   "file_extension": ".py",
   "mimetype": "text/x-python",
   "name": "python",
   "nbconvert_exporter": "python",
   "pygments_lexer": "ipython3",
   "version": "3.10.9"
  }
 },
 "nbformat": 4,
 "nbformat_minor": 5
}
