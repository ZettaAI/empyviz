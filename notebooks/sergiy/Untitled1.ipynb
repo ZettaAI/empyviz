{
 "cells": [
  {
   "cell_type": "code",
   "execution_count": null,
   "id": "907dd8cd-d809-48b4-a947-b91a0804a4d7",
   "metadata": {
    "tags": []
   },
   "outputs": [],
   "source": [
    "\n"
   ]
  },
  {
   "cell_type": "code",
   "execution_count": null,
   "id": "349c0241-5512-4d05-b516-0150b1d63f29",
   "metadata": {
    "tags": []
   },
   "outputs": [],
   "source": [
    "from zetta_utils import mazepa\n",
    "from zetta_utils.mazepa import Task, Flow\n",
    "\n",
    "def greet(name):\n",
    "    print (f\"Hi {name}!\")\n",
    "    \n",
    "def greet_many():\n",
    "    yield Task(fn=greet, args=(\"Albert\",))\n",
    "    yield Task(fn=greet, args=(\"Isaac\",))\n",
    "    \n",
    "\n",
    "mazepa.execute(\n",
    "    Flow(greet_many), \n",
    ")\n",
    "# Hi Albert!\n",
    "# Hi Isaac!"
   ]
  },
  {
   "cell_type": "code",
   "execution_count": null,
   "id": "4b398f51-e799-45a9-baad-e9873f83a5bf",
   "metadata": {
    "tags": []
   },
   "outputs": [],
   "source": [
    "from zetta_utils import mazepa\n",
    "from zetta_utils.mazepa import taskable_operation, flow_schema\n",
    "\n",
    "@taskable_operation\n",
    "def greet_op(name):\n",
    "    print (f\"Hi {name}!\")\n",
    "\n",
    "@flow_schema\n",
    "def greet_many(names):\n",
    "    yield [\n",
    "        greet_op.make_task(name) \n",
    "        for name in names\n",
    "    ]\n",
    "    \n",
    "flow = greet_many([\"Albert\", \"Isaac\"])\n",
    "mazepa.execute(target=flow)"
   ]
  },
  {
   "cell_type": "code",
   "execution_count": null,
   "id": "9858770a-696e-4038-a006-6de4817c49ef",
   "metadata": {
    "tags": []
   },
   "outputs": [],
   "source": [
    "@mazepa.taskable_operation_cls\n",
    "class GreetOperation:\n",
    "    def __init__(self, greeting=\"Hi\"):\n",
    "        self.greeting = greeting\n",
    "        \n",
    "    def __call__(self, name):\n",
    "        print (f\"{self.greeting} {name}!\")\n",
    "    \n",
    "@mazepa.flow_schema_cls\n",
    "class GreedFlowSchema:\n",
    "    def flow(self, names):\n",
    "        for name in names:\n",
    "            yield GreetOperation().make_task(name)\n",
    "            \n",
    "flow_schema = GreedFlowSchema()\n",
    "flow = flow_schema([\"Albert\", \"Isaac\"])\n",
    "\n",
    "mazepa.execute(flow)\n",
    "# Hi Albert!\n",
    "# Hi Isaac!"
   ]
  },
  {
   "cell_type": "code",
   "execution_count": null,
   "id": "0e87ce87-8d20-4864-871b-c5cada7ae893",
   "metadata": {
    "tags": []
   },
   "outputs": [],
   "source": [
    "GreedFlowSchema().make_flow"
   ]
  },
  {
   "cell_type": "code",
   "execution_count": null,
   "id": "fd7f07d1-4e37-4ce4-81b2-826a681d56c3",
   "metadata": {
    "tags": []
   },
   "outputs": [],
   "source": [
    "mazepa.execute?"
   ]
  },
  {
   "cell_type": "code",
   "execution_count": null,
   "id": "c8b52545-6265-47ef-bc4e-5f739eccb399",
   "metadata": {
    "tags": []
   },
   "outputs": [],
   "source": [
    "task = Adder(greeting=\"hola\").make_task(0)"
   ]
  },
  {
   "cell_type": "code",
   "execution_count": null,
   "id": "f1308ffb-74d8-40ff-a53e-ae9d55caf6a4",
   "metadata": {
    "tags": []
   },
   "outputs": [],
   "source": [
    "Adder(greeting=\"hola\")(0)"
   ]
  },
  {
   "cell_type": "code",
   "execution_count": null,
   "id": "f333f647-9a38-43d6-b453-3e68c6882332",
   "metadata": {
    "tags": []
   },
   "outputs": [],
   "source": [
    "task()"
   ]
  },
  {
   "cell_type": "code",
   "execution_count": null,
   "id": "04323d65-9f2a-49a7-ba91-2d5a19177554",
   "metadata": {},
   "outputs": [],
   "source": []
  }
 ],
 "metadata": {
  "kernelspec": {
   "display_name": "Python (zetta-x8-p310)",
   "language": "python",
   "name": "zetta-x8-p310"
  },
  "language_info": {
   "codemirror_mode": {
    "name": "ipython",
    "version": 3
   },
   "file_extension": ".py",
   "mimetype": "text/x-python",
   "name": "python",
   "nbconvert_exporter": "python",
   "pygments_lexer": "ipython3",
   "version": "3.10.9"
  }
 },
 "nbformat": 4,
 "nbformat_minor": 5
}
