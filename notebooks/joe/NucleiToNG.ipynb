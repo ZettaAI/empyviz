{
 "cells": [
  {
   "cell_type": "markdown",
   "id": "116c17f1-1701-4ddc-b13d-46d91500ab74",
   "metadata": {},
   "source": [
    "## Create cell nucleus layer for Neuroglancer\n",
    "\n",
    "This script reads a CSV file of cell nucleus positions and sizes, and outputs JSON data that can be pasted into Neuroglancer as one of the layers in its state."
   ]
  },
  {
   "cell_type": "code",
   "execution_count": null,
   "id": "4943a208-8809-4b60-9a2a-1c1b858de447",
   "metadata": {},
   "outputs": [],
   "source": [
    "csv_file = \"/home/joe/zheng-mouse-hippo/nucleus-centroids-filtered.csv\"\n",
    "data_resolution = (384, 384, 45)"
   ]
  },
  {
   "cell_type": "code",
   "execution_count": null,
   "id": "64355bdb-02b9-4b81-983b-a904917ba2bb",
   "metadata": {},
   "outputs": [],
   "source": [
    "with open(csv_file, 'r') as f:\n",
    "    lines = f.readlines()\n",
    "data = []\n",
    "header = None\n",
    "for line in lines:\n",
    "    if header is None:\n",
    "        header = line.strip().split(',')\n",
    "    else:\n",
    "        data.append(list(map(int, line.split(','))))\n",
    "print(\"Got such data as:\")\n",
    "print(header)\n",
    "for line in data[:10]:\n",
    "    print(line)"
   ]
  },
  {
   "cell_type": "code",
   "execution_count": null,
   "id": "3da286a6-057e-49fc-b4aa-24bd9d86f686",
   "metadata": {},
   "outputs": [],
   "source": [
    "def calc_radius(voxels):\n",
    "    \"\"\"Calculate the (x, y, z) radius, in linear voxels, given volume in cubic voxels.\"\"\"\n",
    "    # Hard-coded for now:\n",
    "    r = 5\n",
    "    return (r, r, r * data_resolution[0] / data_resolution[2])"
   ]
  },
  {
   "cell_type": "code",
   "execution_count": null,
   "id": "b0eb9740-aee2-40f3-b8a6-3819f5dc1d7a",
   "metadata": {},
   "outputs": [],
   "source": [
    "header = '''\n",
    "    {\n",
    "      \"type\": \"annotation\",\n",
    "      \"source\": {\n",
    "        \"url\": \"local://annotations\",\n",
    "        \"transform\": {\n",
    "          \"outputDimensions\": {\"x\": [12,\"nm\"], \"y\": [12,\"nm\"], \"z\": [45, \"nm\"]},\n",
    "          \"inputDimensions\": {\"x\": [#IRX,\"nm\"], \"y\": [#IRY,\"nm\"], \"z\": [#IRZ, \"nm\"]}\n",
    "        }\n",
    "      },\n",
    "      \"tab\": \"annotations\",\n",
    "      \"annotations\": [\n",
    "'''\n",
    "entry = '''        {\n",
    "          \"center\": [ #CX, #CY, #CZ ],\n",
    "          \"radii\": [ #RX, #RY, #RZ ],\n",
    "          \"type\": \"ellipsoid\",\n",
    "          \"id\": \"#ID\",\n",
    "          \"description\": \"#NOTE\"\n",
    "        }'''\n",
    "footer = '''\n",
    "      ],\n",
    "      \"name\": \"nuclei\"\n",
    "    }\n",
    "'''"
   ]
  },
  {
   "cell_type": "code",
   "execution_count": null,
   "id": "30043837-6458-4ef3-9dba-2547d7854538",
   "metadata": {},
   "outputs": [],
   "source": [
    "def subfields(s, field_map):\n",
    "    for k,v in field_map.items():\n",
    "        s = s.replace('#' + k, str(v))\n",
    "    return s"
   ]
  },
  {
   "cell_type": "code",
   "execution_count": null,
   "id": "fce005b2-10c2-43e0-9e75-59703d4eface",
   "metadata": {},
   "outputs": [],
   "source": [
    "print(subfields(header, {'IRX':data_resolution[0], 'IRY':data_resolution[1], 'IRZ':data_resolution[2]}))\n",
    "first = True\n",
    "for line in data:\n",
    "    r = calc_radius(line[4])\n",
    "    if not first:\n",
    "        print(',')\n",
    "    print(subfields(entry, { \n",
    "        'ID': '39842' + str(line[0]),\n",
    "        'CX': line[1], 'CY': line[2], 'CZ': line[3], \n",
    "        'RX': r[0], 'RY': r[1], 'RZ': r[2],\n",
    "        'NOTE': str(line[4]) + \" voxels\"\n",
    "        }), end='')\n",
    "    first = False\n",
    "print(footer)"
   ]
  },
  {
   "cell_type": "code",
   "execution_count": null,
   "id": "fcd341a8-393e-4c58-84b8-04b02fc14f8d",
   "metadata": {},
   "outputs": [],
   "source": []
  }
 ],
 "metadata": {
  "kernelspec": {
   "display_name": "Python 3 (ipykernel)",
   "language": "python",
   "name": "python3"
  },
  "language_info": {
   "codemirror_mode": {
    "name": "ipython",
    "version": 3
   },
   "file_extension": ".py",
   "mimetype": "text/x-python",
   "name": "python",
   "nbconvert_exporter": "python",
   "pygments_lexer": "ipython3",
   "version": "3.11.9"
  }
 },
 "nbformat": 4,
 "nbformat_minor": 5
}
