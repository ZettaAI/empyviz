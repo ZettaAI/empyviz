{
 "cells": [
  {
   "cell_type": "markdown",
   "id": "f26068a8-2493-486c-acba-ee97747145d0",
   "metadata": {},
   "source": [
    "## Mapping Nucleus to Soma Segment IDs"
   ]
  },
  {
   "cell_type": "code",
   "execution_count": null,
   "id": "b930dfbc-3383-4c60-92b2-6d4410c0c200",
   "metadata": {},
   "outputs": [],
   "source": [
    "# Path to our full segmentation.  In this data, we expect nuclei to be\n",
    "# labeled separately from the cell soma that contains them; but the rest\n",
    "# of the cell should be all one segment ID.\n",
    "seg_path = \"gs://zheng_mouse_hippocampus_scratch_30/make_cv_happy/seg/v0.2-8nm-updown3x-m0.01_18-18-45_20240525072804\"\n",
    "seg_resolution = (36, 36, 45)   # actually, index resolution\n",
    "\n",
    "# Path to the CSV file containing nucleus centroids.\n",
    "nucleus_csv_path = \"/home/joe/zheng-mouse-hippo/nucleus-centroids-filtered.csv\"\n",
    "nucleus_resolution = (384, 384, 45)"
   ]
  },
  {
   "cell_type": "code",
   "execution_count": null,
   "id": "24629e98-a65c-411c-9ec0-7d7e1189176f",
   "metadata": {},
   "outputs": [],
   "source": [
    "from caveclient import CAVEclient\n",
    "from zetta_utils.layer.volumetric.cloudvol import build_cv_layer\n",
    "from zetta_utils.geometry import Vec3D\n",
    "import cc3d\n",
    "import numpy as np\n",
    "import zetta_utils.tensor_ops.convert as convert\n",
    "import pandas as pd\n",
    "from scipy import ndimage"
   ]
  },
  {
   "cell_type": "code",
   "execution_count": null,
   "id": "cb893568-f79e-41a6-94fa-a52584be98ea",
   "metadata": {},
   "outputs": [],
   "source": [
    "seg_resolution = Vec3D(*seg_resolution)\n",
    "nucleus_resolution = Vec3D(*nucleus_resolution)"
   ]
  },
  {
   "cell_type": "code",
   "execution_count": null,
   "id": "14349c0d-e1a2-4596-af8d-f3304496b8e5",
   "metadata": {},
   "outputs": [],
   "source": [
    "# Load the CSV data into a Pandas DataFrame\n",
    "df = pd.read_csv(nucleus_csv_path)\n",
    "\n",
    "# Display the first few rows of the DataFrame to check the data\n",
    "print(df.head())\n"
   ]
  },
  {
   "cell_type": "code",
   "execution_count": null,
   "id": "acf1556e-cd47-4130-9268-033a3ac72a61",
   "metadata": {},
   "outputs": [],
   "source": [
    "# load cloud volume\n",
    "data_resolution = Vec3D(36, 36, 45)\n",
    "cvl = build_cv_layer(path=seg_path,\n",
    "                     allow_slice_rounding=True,\n",
    "                     index_resolution=seg_resolution,\n",
    "                     data_resolution=data_resolution,\n",
    "                     interpolation_mode='nearest',\n",
    "                    )"
   ]
  },
  {
   "cell_type": "code",
   "execution_count": null,
   "id": "7409552e-af9f-44b3-9a5e-6639d4aec839",
   "metadata": {},
   "outputs": [],
   "source": [
    "def findSegAtPoint(pos):\n",
    "    # define a smallish bounding box around the points\n",
    "    bmin = pos - Vec3D(256,256,64)\n",
    "    bmax = pos + Vec3D(256,256,64)\n",
    "    global cutout\n",
    "    cutout = cvl[seg_resolution, bmin[0]:bmax[0], bmin[1]:bmax[1], bmin[2]:bmax[2]]\n",
    "    cutout = cutout[0]  # (use only channel 0)\n",
    "    i = np.round(pos - bmin).astype(int)\n",
    "    return cutout[i[0], i[1], i[2]]"
   ]
  },
  {
   "cell_type": "code",
   "execution_count": null,
   "id": "5ece5ac9-1665-4f0c-bb9a-4160f1ff7c9c",
   "metadata": {},
   "outputs": [],
   "source": [
    "def print_mask_bounds(nuc_mask):\n",
    "    # As a sanity check, let's check the bounds of our nucleus.  It should not hit the edge of our cutout.\n",
    "    indices = np.where(nuc_mask == 1)\n",
    "    if len(indices[0]) == 0:\n",
    "        print('NO NUCLEUS INDICES FOUND')\n",
    "        return\n",
    "    print(indices)\n",
    "    # Get the range of \"1\" values in each dimension\n",
    "    x_min, x_max = indices[0].min(), indices[0].max()\n",
    "    y_min, y_max = indices[1].min(), indices[1].max()\n",
    "    z_min, z_max = indices[2].min(), indices[2].max()\n",
    "    \n",
    "    print(f\"x range: {x_min} to {x_max}; y range: {y_min} to {y_max}; z range: {z_min} to {z_max}\")"
   ]
  },
  {
   "cell_type": "code",
   "execution_count": null,
   "id": "e1573ebc-dcce-48cb-8534-d6a540254780",
   "metadata": {},
   "outputs": [],
   "source": [
    "def get_ids_in_mask(mask, id_space, exclude_list=(0)):\n",
    "    id_list = id_space[mask]\n",
    "    id_list = id_list[~np.isin(id_list, exclude_list)]\n",
    "    vals, counts = np.unique(id_list, return_counts=True)\n",
    "    return vals, counts\n",
    "\n",
    "def find_soma_id(nucleus_id):\n",
    "    # find all the nucleus voxels\n",
    "    nuc_mask = np.array(cutout == nucleus_id)\n",
    "    print_mask_bounds(nuc_mask)\n",
    "    # enlarge 1 step, and (separately) 3 more steps\n",
    "    nuc_mask_enlarg1 = ndimage.binary_dilation(nuc_mask, iterations=1)\n",
    "    nuc_mask_enlarg3 = ndimage.binary_dilation(nuc_mask_enlarg1, iterations=2)\n",
    "    # find the thin shell by XORing out the interior from the fully inflated\n",
    "    border_nuc_mask = np.logical_xor(nuc_mask_enlarg1, nuc_mask_enlarg3)\n",
    "    print(f'Generated nuclear border of {np.sum(border_nuc_mask)} voxels')\n",
    "\n",
    "    for neighbor_id in get_ids_in_mask(border_nuc_mask, cutout, (id,))[0]:\n",
    "        if neighbor_id > 0:\n",
    "            return neighbor_id"
   ]
  },
  {
   "cell_type": "code",
   "execution_count": null,
   "id": "84bfb9c5-5fa4-4c84-9aaa-f9194b5a8ab7",
   "metadata": {},
   "outputs": [],
   "source": [
    "results = []  # list of (nucleus_id, cell_id) pairs\n",
    "for index, row in df.iterrows():\n",
    "    print(f'{index}: {[row.x, row.y, row.z]}...')\n",
    "    pos_in_nuc_coords = Vec3D(row.x, row.y, row.z)\n",
    "    pos_in_seg_coords = pos_in_nuc_coords * nucleus_resolution / seg_resolution\n",
    "    nucleus_id = findSegAtPoint(pos_in_seg_coords)\n",
    "    soma_id = find_soma_id(nucleus_id)\n",
    "    results.append((nucleus_id, soma_id))\n",
    "    print(f'Nucleus {nucleus_id} is in cell {soma_id}')"
   ]
  },
  {
   "cell_type": "code",
   "execution_count": null,
   "id": "81c77e1b-b207-42ac-a3c1-c81bff97aedc",
   "metadata": {},
   "outputs": [],
   "source": [
    "results"
   ]
  },
  {
   "cell_type": "code",
   "execution_count": null,
   "id": "f6ec06c9-e795-45f3-8c52-192f0c9bce68",
   "metadata": {},
   "outputs": [],
   "source": [
    "# Create a DataFrame from the list of tuples\n",
    "df_out = pd.DataFrame(results, columns=['neuron_id', 'soma_id'])\n",
    "\n",
    "# Save the DataFrame to a CSV file\n",
    "output_csv_path = '/home/joe/zheng-mouse-hippo/nucleus-soma-v2.csvs'\n",
    "df_out.to_csv(output_csv_path, index=False)\n",
    "\n",
    "print(f\"Data saved to {output_csv_path}\")"
   ]
  },
  {
   "cell_type": "code",
   "execution_count": null,
   "id": "42899ddb-21b7-4276-86a1-2c9f4f6d386c",
   "metadata": {},
   "outputs": [],
   "source": [
    "# Group by 'soma_id' and filter groups with more than one 'neuron_id'\n",
    "grouped = df_out.groupby('soma_id').filter(lambda x: len(x) > 1).sort_values(by='soma_id')\n",
    "\n",
    "# Print the results\n",
    "print(grouped)\n"
   ]
  },
  {
   "cell_type": "code",
   "execution_count": null,
   "id": "02288a21-959d-4dcb-8892-3f046aef385f",
   "metadata": {},
   "outputs": [],
   "source": [
    "len(df)"
   ]
  },
  {
   "cell_type": "code",
   "execution_count": null,
   "id": "a6ae9d46-6634-460a-9ee0-31aeb74aa25b",
   "metadata": {},
   "outputs": [],
   "source": []
  }
 ],
 "metadata": {
  "kernelspec": {
   "display_name": "Python 3 (ipykernel)",
   "language": "python",
   "name": "python3"
  },
  "language_info": {
   "codemirror_mode": {
    "name": "ipython",
    "version": 3
   },
   "file_extension": ".py",
   "mimetype": "text/x-python",
   "name": "python",
   "nbconvert_exporter": "python",
   "pygments_lexer": "ipython3",
   "version": "3.11.9"
  }
 },
 "nbformat": 4,
 "nbformat_minor": 5
}
