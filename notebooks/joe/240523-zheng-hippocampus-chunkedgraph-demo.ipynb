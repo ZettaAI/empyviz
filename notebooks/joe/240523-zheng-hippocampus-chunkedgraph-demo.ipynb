{
 "cells": [
  {
   "cell_type": "code",
   "execution_count": null,
   "id": "2a859579-0a1b-4ebb-a12e-f4c48ba740f5",
   "metadata": {
    "tags": []
   },
   "outputs": [],
   "source": [
    "from os import environ\n",
    "import pandas as pd\n",
    "import caveclient\n",
    "import warnings\n",
    "\n",
    "import os\n",
    "import importlib\n",
    "\n",
    "from pychunkedgraph.graph import chunkedgraph\n",
    "\n",
    "HOME = os.path.expanduser(\"~\")\n",
    "warnings.filterwarnings('ignore')"
   ]
  },
  {
   "cell_type": "code",
   "execution_count": null,
   "id": "5abc20cc-2563-460b-bf3a-6d65d0025a98",
   "metadata": {
    "tags": []
   },
   "outputs": [],
   "source": [
    "project = \"neuromancer-seung-import\"\n",
    "environ[\"BIGTABLE_PROJECT\"] = project\n",
    "environ[\"BIGTABLE_INSTANCE\"] = \"pychunkedgraph\"\n",
    "environ[\"GOOGLE_APPLICATION_CREDENTIALS\"] = f\"{HOME}/.cloudvolume/secrets/zetta-pcg-seung-import.json\""
   ]
  },
  {
   "cell_type": "code",
   "execution_count": null,
   "id": "a489f21e-4369-4098-b62d-7276380318e6",
   "metadata": {
    "tags": []
   },
   "outputs": [],
   "source": [
    "graph_id = \"zheng_mousehc_20240520021649\"\n",
    "cg = chunkedgraph.ChunkedGraph(graph_id=graph_id)"
   ]
  },
  {
   "cell_type": "markdown",
   "id": "cb761083-4a23-4863-8e9c-2d6d1e45d116",
   "metadata": {},
   "source": [
    "## Getting edits"
   ]
  },
  {
   "cell_type": "code",
   "execution_count": null,
   "id": "ebd6d9c6-579e-49c4-b1e0-eed8d967446c",
   "metadata": {
    "tags": []
   },
   "outputs": [],
   "source": [
    "from pychunkedgraph.graph import segmenthistory as hist\n",
    "import collections\n",
    "import numpy as np\n",
    "from pychunkedgraph.graph.attributes import OperationLogs"
   ]
  },
  {
   "cell_type": "code",
   "execution_count": null,
   "id": "ecd8a672-80f2-44b4-aaa1-ee13f910bbdb",
   "metadata": {
    "tags": []
   },
   "outputs": [],
   "source": [
    "def get_logs_df(cg):\n",
    "    log_rows = hist.get_all_log_entries(cg)\n",
    "    log_data = collections.defaultdict(list)\n",
    "    print(log_rows[0])\n",
    "    for log_row in log_rows:\n",
    "        # print('Source:', log_row.row[OperationLogs.SourceCoordinate])\n",
    "        # print('Sink:', log_row.row[OperationLogs.SinkCoordinate])\n",
    "        log_data[\"date\"].append(log_row.timestamp)\n",
    "        log_data[\"timestamp\"].append(log_row.timestamp.timestamp())\n",
    "        log_data[\"user_id\"].append(log_row.user_id)\n",
    "        log_data[\"is_merge\"].append(log_row.is_merge)\n",
    "        log_data[\"coordsA\"].append(log_row.row[OperationLogs.SourceCoordinate])\n",
    "        log_data[\"coordsB\"].append(log_row.row[OperationLogs.SinkCoordinate])\n",
    "        \n",
    "    return pd.DataFrame(log_data)"
   ]
  },
  {
   "cell_type": "code",
   "execution_count": null,
   "id": "42e76496-4fe2-4592-8461-2f2a6b17b524",
   "metadata": {
    "tags": []
   },
   "outputs": [],
   "source": [
    "log_df = get_logs_df(cg)\n",
    "log_df"
   ]
  },
  {
   "cell_type": "code",
   "execution_count": null,
   "id": "87539283-123c-494e-9eec-d9955c69e394",
   "metadata": {},
   "outputs": [],
   "source": [
    "print(42)"
   ]
  },
  {
   "cell_type": "markdown",
   "id": "a40e146b-3106-4584-8427-438f9759d0c1",
   "metadata": {},
   "source": [
    "## Make an edit programmatically \n",
    "Try [this edit](https://spelunker.cave-explorer.org/#!middleauth+https://global.daf-apis.com/nglstate/api/v1/5384288776224768)."
   ]
  },
  {
   "cell_type": "code",
   "execution_count": null,
   "id": "96a7e051-9946-44c7-8a96-f96853e4303e",
   "metadata": {
    "tags": []
   },
   "outputs": [],
   "source": [
    "import nglui\n",
    "from caveclient import CAVEclient"
   ]
  },
  {
   "cell_type": "code",
   "execution_count": null,
   "id": "30779993-cbea-400a-aa93-f4167b1ffa3a",
   "metadata": {
    "tags": []
   },
   "outputs": [],
   "source": [
    "client = CAVEclient()"
   ]
  },
  {
   "cell_type": "code",
   "execution_count": null,
   "id": "c640cc7c-15be-434f-8d11-2054e44d18ab",
   "metadata": {
    "tags": []
   },
   "outputs": [],
   "source": [
    "state = client.state.get_state_json(5384288776224768)\n",
    "ptA, ptB, supervoxels = nglui.parser.line_annotations(state, 'annotation', linked_segmentations=True)"
   ]
  },
  {
   "cell_type": "code",
   "execution_count": null,
   "id": "7b20e5ea-1b8c-4ac5-aacb-941e268ca0de",
   "metadata": {
    "tags": []
   },
   "outputs": [],
   "source": [
    "supervoxels"
   ]
  },
  {
   "cell_type": "code",
   "execution_count": null,
   "id": "06c7c805-5230-4100-b3d8-79171db3eb98",
   "metadata": {
    "tags": []
   },
   "outputs": [],
   "source": [
    "user_id = \"425\" # tmacrina@zetta.ai"
   ]
  },
  {
   "cell_type": "code",
   "execution_count": null,
   "id": "5c698c1f-1579-42e0-b5d7-e679f14c40c5",
   "metadata": {
    "tags": []
   },
   "outputs": [],
   "source": [
    "cg.add_edges?"
   ]
  },
  {
   "cell_type": "code",
   "execution_count": null,
   "id": "405616f7-2dd4-46c3-8e24-4999578d76db",
   "metadata": {},
   "outputs": [],
   "source": [
    "cg.add_edges(user_id, supervoxels[0])"
   ]
  },
  {
   "cell_type": "code",
   "execution_count": null,
   "id": "b7e6eb02-8491-4531-8153-0ede4154641d",
   "metadata": {},
   "outputs": [],
   "source": [
    "log_df = get_logs_df(cg)\n",
    "log_df"
   ]
  }
 ],
 "metadata": {
  "kernelspec": {
   "display_name": "Python 3 (ipykernel)",
   "language": "python",
   "name": "python3"
  },
  "language_info": {
   "codemirror_mode": {
    "name": "ipython",
    "version": 3
   },
   "file_extension": ".py",
   "mimetype": "text/x-python",
   "name": "python",
   "nbconvert_exporter": "python",
   "pygments_lexer": "ipython3",
   "version": "3.11.9"
  }
 },
 "nbformat": 4,
 "nbformat_minor": 5
}
