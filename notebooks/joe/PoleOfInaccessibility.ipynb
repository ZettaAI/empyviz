{
 "cells": [
  {
   "cell_type": "markdown",
   "id": "62cfd58c-7857-427d-931b-6dd83d3ef3e2",
   "metadata": {},
   "source": [
    "# A Better Center\n",
    "\n",
    "This notebook demonstrates how to calculate the **\"Pole of Inaccessibility\"**, which may be a better notion of \"center\" for odd (especially concave) shapes.\n",
    "\n",
    "Reference: https://en.wikipedia.org/wiki/Pole_of_inaccessibility"
   ]
  },
  {
   "cell_type": "markdown",
   "id": "c039b5a5-10b8-4913-8617-67deb9003e0b",
   "metadata": {},
   "source": [
    "Let's start by loading an image from a GS bucket.\n",
    "This will represent a supervoxel, for example."
   ]
  },
  {
   "cell_type": "code",
   "execution_count": null,
   "id": "589851f1-75e3-4fd9-94d6-90d4bed3e691",
   "metadata": {},
   "outputs": [],
   "source": [
    "from google.cloud import storage\n",
    "from PIL import Image\n",
    "import numpy as np\n",
    "import io\n",
    "import matplotlib.pyplot as plt\n",
    "from scipy.spatial import distance\n",
    "from skimage.morphology import binary_dilation\n",
    "from skimage.measure import label\n",
    "\n",
    "def download_image_from_gcs(bucket_name, source_blob_name):\n",
    "    \"\"\"Downloads an image file from Google Cloud Storage and returns it as a PIL Image.\"\"\"\n",
    "    storage_client = storage.Client()\n",
    "    bucket = storage_client.bucket(bucket_name)\n",
    "    blob = bucket.blob(source_blob_name)\n",
    "    image_data = blob.download_as_bytes()\n",
    "    return Image.open(io.BytesIO(image_data))\n",
    "\n",
    "# Specify the bucket and image path\n",
    "bucket_name = \"joe_exp\"\n",
    "source_blob_name = \"shapes/shape_0.png\"\n",
    "\n",
    "# Download the image\n",
    "image = download_image_from_gcs(bucket_name, source_blob_name)\n",
    "\n",
    "# Convert the image to a NumPy array\n",
    "image_array = np.array(image)\n",
    "\n",
    "# Threshold the image at a value of 128, making a binary image (1 for the interior, 0 for the exterior)\n",
    "threshold_value = 128\n",
    "binary_image_array = (image_array < threshold_value).astype(np.uint8)"
   ]
  },
  {
   "cell_type": "markdown",
   "id": "b016e720-4186-49c3-b3ce-852c72505c55",
   "metadata": {},
   "source": [
    "Now let's get a list of all the interior coordinates, and the perimeter coordinates."
   ]
  },
  {
   "cell_type": "code",
   "execution_count": null,
   "id": "13252a9f-b2ea-4809-b392-f26d36820bd9",
   "metadata": {},
   "outputs": [],
   "source": [
    "# Find the interior pixels (all pixels with a value of 1)\n",
    "interior_coords = np.argwhere(binary_image_array == 1)\n",
    "\n",
    "# Find the perimeter pixels\n",
    "dilated_image = binary_dilation(binary_image_array)\n",
    "perimeter_image = dilated_image ^ binary_image_array  # XOR to find perimeter pixels\n",
    "perimeter_coords = np.argwhere(perimeter_image == 1)\n",
    "\n",
    "# Convert the coordinates to lists of tuples\n",
    "interior_coords = [tuple(coord) for coord in interior_coords]\n",
    "perimeter_coords = [tuple(coord) for coord in perimeter_coords]\n",
    "\n",
    "print(\"Number of interior pixels:\", len(interior_coords))\n",
    "print(\"Number of perimeter pixels:\", len(perimeter_coords))"
   ]
  },
  {
   "cell_type": "markdown",
   "id": "92dd473e-273a-41ab-b286-8642dc5ea64f",
   "metadata": {},
   "source": [
    "With the list of interior coordinates, calculating the centroid is trivial.\n",
    "(It's just the average coordinate.)"
   ]
  },
  {
   "cell_type": "code",
   "execution_count": null,
   "id": "91fc7ac2-583a-42e1-b9a8-c14c17b94523",
   "metadata": {},
   "outputs": [],
   "source": [
    "centroid = np.mean(interior_coords, axis=0)\n",
    "print(\"Centroid:\", centroid)"
   ]
  },
  {
   "cell_type": "markdown",
   "id": "a92e127b-86cb-48a6-b5a5-8f59d3c64147",
   "metadata": {},
   "source": [
    "But now let's calculate the _Pole of Inaccessibility_ -- that is, the interior point\n",
    "which is farthest away from the nearest perimeter point (so, most inaccessible)."
   ]
  },
  {
   "cell_type": "code",
   "execution_count": null,
   "id": "f0bf9812-27eb-4ee8-920b-3421104aba94",
   "metadata": {},
   "outputs": [],
   "source": [
    "# Calculate the distance between each interior pixel and all perimeter pixels\n",
    "distances = distance.cdist(interior_coords, perimeter_coords, metric='euclidean')\n",
    "\n",
    "# Find the minimum distance to a perimeter pixel for each interior pixel\n",
    "min_distances = distances.min(axis=1)\n",
    "\n",
    "# Identify the interior pixel with the maximum of these minimum distances\n",
    "max_min_distance_index = np.argmax(min_distances)\n",
    "pole_of_inaccessibility = interior_coords[max_min_distance_index]\n",
    "\n",
    "print(\"Pole of Inaccessibility:\", pole_of_inaccessibility)"
   ]
  },
  {
   "cell_type": "markdown",
   "id": "901f6ca1-dd1e-45a1-9b45-1460ce45b08a",
   "metadata": {},
   "source": [
    "And now plot both types of center, so we can see."
   ]
  },
  {
   "cell_type": "code",
   "execution_count": null,
   "id": "e8070d42-fedf-4f9f-8214-0db06d51fd07",
   "metadata": {},
   "outputs": [],
   "source": [
    "def show_result(binary_image_array, centroid, pole, legend_pos=(1, 0.5)):\n",
    "    # Plot the binary image\n",
    "    plt.imshow(binary_image_array, cmap='gray')\n",
    "    #plt.title(\"Binary Image with Centroid and Pole of Inaccessibility\")\n",
    "    plt.axis('off')  # Hide the axis\n",
    "    \n",
    "    # Plot the centroid\n",
    "    plt.scatter(*centroid[::-1], color='red', label='Centroid', marker='x', s=100)\n",
    "    \n",
    "    # Plot the pole of inaccessibility\n",
    "    plt.scatter(*pole[::-1], color='blue', label='Pole of Inaccessibility', marker='o', s=100)\n",
    "    \n",
    "    if legend_pos is not None:\n",
    "        plt.legend(loc='center left', bbox_to_anchor=legend_pos)\n",
    "\n",
    "    # Adjust the layout to make space for the legend, and show it\n",
    "    plt.tight_layout()\n",
    "    plt.show()\n",
    "show_result(binary_image_array, centroid, pole_of_inaccessibility)"
   ]
  },
  {
   "cell_type": "markdown",
   "id": "42dbd039-17c7-429a-b19f-e075b021fecc",
   "metadata": {},
   "source": [
    "## Let's Encapsulate\n",
    "\n",
    "The above developed & demonstrated the algorithm step by step.  But now let's make a nice neat function to return the pole for any binary image (ndarray).  \"Pole of inaccessibility\" is an overly dramatic and wordy name, so we'll just call it the \"center pole.\""
   ]
  },
  {
   "cell_type": "code",
   "execution_count": null,
   "id": "3e70e9e6-bea3-4a2f-ac3c-6dab17643aa3",
   "metadata": {},
   "outputs": [],
   "source": [
    "def center_pole(binary_image_array):\n",
    "    # Find the interior pixels (all pixels with a value of 1), and the surrounding perimiter pixels\n",
    "    interior_coords = np.argwhere(binary_image_array == 1)\n",
    "\n",
    "    # Find the perimeter pixels\n",
    "    dilated_image = binary_dilation(binary_image_array)\n",
    "    perimeter_image = dilated_image ^ binary_image_array  # XOR to find perimeter pixels\n",
    "    perimeter_coords = np.argwhere(perimeter_image == 1)\n",
    "\n",
    "    # Convert the coordinates to lists of tuples (needed by cdist)\n",
    "    interior_coords = [tuple(coord) for coord in interior_coords]\n",
    "    perimeter_coords = [tuple(coord) for coord in perimeter_coords]\n",
    "\n",
    "    # Calculate the distance between each interior pixel and all perimeter pixels\n",
    "    distances = distance.cdist(interior_coords, perimeter_coords, metric='euclidean')\n",
    "    \n",
    "    # Find the minimum distance to a perimeter pixel for each interior pixel\n",
    "    min_distances = distances.min(axis=1)\n",
    "    \n",
    "    # Identify the interior pixel with the maximum of these minimum distances\n",
    "    max_min_distance_index = np.argmax(min_distances)\n",
    "    pole_of_inaccessibility = interior_coords[max_min_distance_index]\n",
    "    return pole_of_inaccessibility"
   ]
  },
  {
   "cell_type": "code",
   "execution_count": null,
   "id": "cfb0e2c0-95d0-40a2-9ffa-7e1efba6eb64",
   "metadata": {},
   "outputs": [],
   "source": [
    "def centroid(binary_image_array):\n",
    "    # Find the interior pixels (all pixels with a value of 1),\n",
    "    # and average to find the centroid\n",
    "    interior_coords = np.argwhere(binary_image_array == 1)\n",
    "    centroid = np.mean(interior_coords, axis=0)\n",
    "    return centroid"
   ]
  },
  {
   "cell_type": "markdown",
   "id": "a61c283f-9632-4f87-a2d9-0c35904cde48",
   "metadata": {},
   "source": [
    "And let's demonstrate it on a few more examples."
   ]
  },
  {
   "cell_type": "code",
   "execution_count": null,
   "id": "58c54291-7ba7-4c48-8ffa-62ba8c65402c",
   "metadata": {},
   "outputs": [],
   "source": [
    "def load_binary(source_blob_name, threshold_value=128):\n",
    "    image = download_image_from_gcs(bucket_name, source_blob_name)\n",
    "    image_array = np.array(image)\n",
    "    return (image_array < threshold_value).astype(np.uint8)"
   ]
  },
  {
   "cell_type": "code",
   "execution_count": null,
   "id": "b39fe340-7d57-4ae4-b697-d5404164373f",
   "metadata": {},
   "outputs": [],
   "source": [
    "for i in range(1, 5):\n",
    "    img = load_binary(f'shapes/shape_{i}.png')\n",
    "    show_result(img, centroid(img), center_pole(img))"
   ]
  },
  {
   "cell_type": "code",
   "execution_count": null,
   "id": "9303d1f3-b7ac-4291-90a1-9688683dc99f",
   "metadata": {},
   "outputs": [],
   "source": []
  }
 ],
 "metadata": {
  "kernelspec": {
   "display_name": "Python 3 (ipykernel)",
   "language": "python",
   "name": "python3"
  },
  "language_info": {
   "codemirror_mode": {
    "name": "ipython",
    "version": 3
   },
   "file_extension": ".py",
   "mimetype": "text/x-python",
   "name": "python",
   "nbconvert_exporter": "python",
   "pygments_lexer": "ipython3",
   "version": "3.11.9"
  }
 },
 "nbformat": 4,
 "nbformat_minor": 5
}
