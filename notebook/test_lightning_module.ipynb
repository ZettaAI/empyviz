{
 "cells": [
  {
   "cell_type": "code",
   "execution_count": null,
   "id": "bdc95d03-2a39-4eb6-b34b-3f976f6eaa6b",
   "metadata": {},
   "outputs": [],
   "source": [
    "import attrs\n",
    "import pytorch_lightning as pl"
   ]
  },
  {
   "cell_type": "code",
   "execution_count": null,
   "id": "93259ee9-207b-474a-bed5-13bf40c4b778",
   "metadata": {},
   "outputs": [],
   "source": [
    "m = pl.LightningModule()"
   ]
  },
  {
   "cell_type": "code",
   "execution_count": null,
   "id": "3136c3e0-aaf0-42e8-90a6-37a7c57c3e16",
   "metadata": {},
   "outputs": [],
   "source": [
    "m._modules"
   ]
  },
  {
   "cell_type": "code",
   "execution_count": null,
   "id": "849e6c33-af7e-48d4-81aa-6abc9ab1d588",
   "metadata": {},
   "outputs": [],
   "source": [
    "class A(pl.LightningModule):\n",
    "    def __init__(self):\n",
    "        super().__init__()"
   ]
  },
  {
   "cell_type": "code",
   "execution_count": null,
   "id": "883599b1-bde4-4a2f-a96f-849aad04dd47",
   "metadata": {},
   "outputs": [],
   "source": [
    "a = A()"
   ]
  },
  {
   "cell_type": "code",
   "execution_count": null,
   "id": "5fc5e489-3fa1-4fa8-9c88-929b29cf01dc",
   "metadata": {},
   "outputs": [],
   "source": [
    "a._modules"
   ]
  },
  {
   "cell_type": "code",
   "execution_count": null,
   "id": "bbd75f48-2cea-4851-a4e3-71df22e77a60",
   "metadata": {},
   "outputs": [],
   "source": [
    "@attrs.mutable(eq=False)\n",
    "class B(pl.LightningModule):\n",
    "    def __attrs_pre_init__(self):\n",
    "        super().__init__()"
   ]
  },
  {
   "cell_type": "code",
   "execution_count": null,
   "id": "9a63f068-3ea6-439d-bc1a-911db6dfbda6",
   "metadata": {},
   "outputs": [],
   "source": [
    "b = B()"
   ]
  },
  {
   "cell_type": "code",
   "execution_count": null,
   "id": "95aa33c5-08f0-41a6-8c03-3c627214dcc2",
   "metadata": {},
   "outputs": [],
   "source": [
    "b._modules"
   ]
  },
  {
   "cell_type": "code",
   "execution_count": null,
   "id": "351e3534-902f-4cab-8023-219200af1cf3",
   "metadata": {},
   "outputs": [],
   "source": [
    "import zetta_utils"
   ]
  },
  {
   "cell_type": "code",
   "execution_count": null,
   "id": "9cc8599d-0962-4d8d-bd02-4b70cf6b96d2",
   "metadata": {},
   "outputs": [],
   "source": [
    "zetta_utils.load_all_modules()"
   ]
  },
  {
   "cell_type": "code",
   "execution_count": null,
   "id": "0ef8a7b7-a456-4a9e-8012-5e83aeabecbc",
   "metadata": {},
   "outputs": [],
   "source": [
    "import torch\n",
    "import torch.nn as nn\n",
    "from zetta_utils.training.lightning.regimes.naive_supervised import NaiveSupervisedRegime"
   ]
  },
  {
   "cell_type": "code",
   "execution_count": null,
   "id": "2f224ff6-b4f0-40d2-a562-47ba48e7972e",
   "metadata": {},
   "outputs": [],
   "source": [
    "input_size = 28 * 28\n",
    "num_classes = 10\n",
    "\n",
    "## Logistic regression model\n",
    "model = nn.Linear(input_size, num_classes)\n",
    "\n",
    "r = NaiveSupervisedRegime(model, 0.01)"
   ]
  },
  {
   "cell_type": "code",
   "execution_count": null,
   "id": "80845fae-a74f-4b07-9b4e-7a3339c3b25b",
   "metadata": {},
   "outputs": [],
   "source": [
    "r._modules"
   ]
  },
  {
   "cell_type": "code",
   "execution_count": null,
   "id": "274f8a76-c5cb-401c-b539-9011521f9fbf",
   "metadata": {},
   "outputs": [],
   "source": [
    "t = pl.Trainer()"
   ]
  },
  {
   "cell_type": "code",
   "execution_count": null,
   "id": "a23751cf-12a6-4fa7-941d-c2566e4c825a",
   "metadata": {},
   "outputs": [],
   "source": [
    "r.trainer = t"
   ]
  },
  {
   "cell_type": "code",
   "execution_count": null,
   "id": "624ca1f3-a01d-4e8b-9470-72de49d6648f",
   "metadata": {},
   "outputs": [],
   "source": [
    "r._modules"
   ]
  },
  {
   "cell_type": "code",
   "execution_count": null,
   "id": "ad09b3fc-ea5c-44d9-ad15-8161630b3db4",
   "metadata": {},
   "outputs": [],
   "source": [
    "r.trainer"
   ]
  },
  {
   "cell_type": "code",
   "execution_count": null,
   "id": "44a4f84d-dc3d-43aa-9ed9-caef13fb132c",
   "metadata": {},
   "outputs": [],
   "source": [
    "r.children()"
   ]
  },
  {
   "cell_type": "code",
   "execution_count": null,
   "id": "afbdbaa8-48c4-48a3-beec-e7bd22f19b5a",
   "metadata": {},
   "outputs": [],
   "source": [
    "list(r.named_children())"
   ]
  },
  {
   "cell_type": "code",
   "execution_count": null,
   "id": "eb987cde-8d68-4946-876d-1911273c8745",
   "metadata": {},
   "outputs": [],
   "source": []
  }
 ],
 "metadata": {
  "kernelspec": {
   "display_name": "Python [conda env:zetta_python3.10] *",
   "language": "python",
   "name": "conda-env-zetta_python3.10-py"
  },
  "language_info": {
   "codemirror_mode": {
    "name": "ipython",
    "version": 3
   },
   "file_extension": ".py",
   "mimetype": "text/x-python",
   "name": "python",
   "nbconvert_exporter": "python",
   "pygments_lexer": "ipython3",
   "version": "3.10.8"
  }
 },
 "nbformat": 4,
 "nbformat_minor": 5
}
