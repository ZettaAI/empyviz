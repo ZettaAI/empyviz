{
 "cells": [
  {
   "cell_type": "code",
   "execution_count": null,
   "id": "f358123b-d637-463e-9d7b-7a60c30fb5a8",
   "metadata": {},
   "outputs": [],
   "source": [
    "import torch\n",
    "import zetta_utils\n",
    "from zetta_utils.parsing import cue\n",
    "from zetta_utils import builder"
   ]
  },
  {
   "cell_type": "code",
   "execution_count": null,
   "id": "714147d6-5a91-4c7d-aa33-98eeaf5ae21e",
   "metadata": {},
   "outputs": [],
   "source": [
    "print(torch.__version__)"
   ]
  },
  {
   "cell_type": "code",
   "execution_count": null,
   "id": "cdd53d92-3a77-4244-b0d8-b52201d1f821",
   "metadata": {},
   "outputs": [],
   "source": [
    "zetta_utils.load_all_modules()"
   ]
  },
  {
   "cell_type": "code",
   "execution_count": null,
   "id": "3e642818-f125-4d96-8635-a103949cbb3a",
   "metadata": {},
   "outputs": [],
   "source": [
    "spec = '''\n",
    "model: {\n",
    "    \"@type\": \"torch.nn.Sequential\"\n",
    "    modules: [\n",
    "        {\n",
    "            \"@type\": \"torch.nn.Conv3d\"\n",
    "            in_channels: 1\n",
    "            out_channels: 16\n",
    "            kernel_size: [1, 5, 5]\n",
    "            padding: [0, 2, 2]\n",
    "            bias: false\n",
    "        },\n",
    "        {\n",
    "            \"@type\": \"torch.nn.InstanceNorm3d\"\n",
    "            num_features: 16\n",
    "            affine: true\n",
    "        },\n",
    "        {\n",
    "            \"@type\": \"torch.nn.ReLU\"            \n",
    "            inplace: true\n",
    "        },\n",
    "        {\n",
    "            \"@type\": \"UNet\"\n",
    "            \"@version\": \"0.0.1\"\n",
    "            conv: {\n",
    "                \"@type\": \"torch.nn.Conv3d\"\n",
    "                \"@mode\": \"partial\"\n",
    "                bias: false\n",
    "            }\n",
    "            downsample: {\n",
    "                \"@type\": \"torch.nn.MaxPool3d\"\n",
    "                \"@mode\": \"partial\"\n",
    "                kernel_size: [1, 2, 2]\n",
    "            }\n",
    "            upsample: {\n",
    "                \"@type\": \"UpConv\"\n",
    "                \"@mode\": \"partial\"\n",
    "                kernel_size: [1, 1, 1]\n",
    "                upsampler: {\n",
    "                    \"@type\": \"torch.nn.Upsample\"\n",
    "                    \"@mode\": \"partial\"\n",
    "                    scale_factor: [1, 2, 2]\n",
    "                    mode: \"trilinear\"                    \n",
    "                }\n",
    "                conv: {\n",
    "                    \"@type\": \"torch.nn.Conv3d\"\n",
    "                    \"@mode\": \"partial\"\n",
    "                    bias: false\n",
    "                }\n",
    "            }\n",
    "            activation: {\n",
    "                \"@type\": \"torch.nn.ReLU\"\n",
    "                \"@mode\": \"partial\"\n",
    "                inplace: true\n",
    "            }\n",
    "            normalization: {\n",
    "                \"@type\": \"torch.nn.InstanceNorm3d\"\n",
    "                \"@mode\": \"partial\"\n",
    "                affine: false\n",
    "            }\n",
    "            skips: {\"1\": 3}\n",
    "            list_num_channels: [\n",
    "                [16, 16, 16, 16, 16],\n",
    "                [16, 32, 32, 32, 32],\n",
    "                [32, 64, 64, 64, 64],\n",
    "\n",
    "                [64, 128, 128, 128, 128],\n",
    "\n",
    "                [64, 64, 64, 64, 64],\n",
    "                [32, 32, 32, 32, 32],\n",
    "                [16, 16, 16, 16, 16],\n",
    "            ]\n",
    "            kernel_sizes: [3, 3, 3]\n",
    "            paddings: [1, 1 ,1]\n",
    "            normalize_last: true\n",
    "            activate_last: true\n",
    "            activation_mode: \"post\"\n",
    "        },\n",
    "        {\n",
    "            \"@type\": \"torch.nn.Conv3d\"\n",
    "            in_channels: 16\n",
    "            out_channels: 3\n",
    "            kernel_size: [1, 5, 5]\n",
    "            padding: [0, 2, 2]\n",
    "            bias: true\n",
    "        },\n",
    "        {\n",
    "            \"@type\": \"CenterCrop\"\n",
    "            size: [16, 192, 192]\n",
    "        },\n",
    "        {\n",
    "            \"@type\": \"torch.nn.Sigmoid\"\n",
    "        },\n",
    "    ]\n",
    "}\n",
    "'''"
   ]
  },
  {
   "cell_type": "code",
   "execution_count": null,
   "id": "c84552c1-31be-47f8-9c2e-b7831180a8ac",
   "metadata": {},
   "outputs": [],
   "source": [
    "result = builder.build(cue.loads(spec))"
   ]
  },
  {
   "cell_type": "code",
   "execution_count": null,
   "id": "1f26fa57-8d06-41b5-aa6d-8b3b028eebfc",
   "metadata": {},
   "outputs": [],
   "source": [
    "model = result['model']"
   ]
  },
  {
   "cell_type": "code",
   "execution_count": null,
   "id": "0ef94198-4220-42c4-a771-dde655a3d1c9",
   "metadata": {},
   "outputs": [],
   "source": [
    "x = torch.randn([1, 1, 20, 256, 256])\n",
    "y = model(x)"
   ]
  },
  {
   "cell_type": "code",
   "execution_count": null,
   "id": "2f238a1a-e309-440b-92d5-f9650cdee1ef",
   "metadata": {},
   "outputs": [],
   "source": [
    "y.shape"
   ]
  },
  {
   "cell_type": "code",
   "execution_count": null,
   "id": "3d3afcea-b2ea-4535-b888-11d3646af797",
   "metadata": {},
   "outputs": [],
   "source": [
    "x = torch.randn([1, 1, 20, 256, 256])\n",
    "\n",
    "torch.onnx.export(\n",
    "    model,\n",
    "    (x, {}),\n",
    "    \"ZRSUNet_post.onnx\",\n",
    "    verbose=False,\n",
    "    export_params=True,\n",
    "    opset_version=11,\n",
    "    input_names=[\"input\"],\n",
    "    output_names=[\"output\"],\n",
    ")"
   ]
  },
  {
   "cell_type": "code",
   "execution_count": null,
   "id": "5fbaf6f5-0ce6-4ea0-8046-b046e2e349b9",
   "metadata": {},
   "outputs": [],
   "source": []
  }
 ],
 "metadata": {
  "kernelspec": {
   "display_name": "zetta_python3.10",
   "language": "python",
   "name": "zetta_python3.10"
  },
  "language_info": {
   "codemirror_mode": {
    "name": "ipython",
    "version": 3
   },
   "file_extension": ".py",
   "mimetype": "text/x-python",
   "name": "python",
   "nbconvert_exporter": "python",
   "pygments_lexer": "ipython3",
   "version": "3.10.8"
  }
 },
 "nbformat": 4,
 "nbformat_minor": 5
}
