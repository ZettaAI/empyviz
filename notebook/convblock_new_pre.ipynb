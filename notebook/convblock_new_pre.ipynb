{
 "cells": [
  {
   "cell_type": "code",
   "execution_count": 1,
   "id": "ebe3504b-3b04-4113-93c2-15ab3fefadd0",
   "metadata": {},
   "outputs": [],
   "source": [
    "import torch\n",
    "import zetta_utils\n",
    "from zetta_utils.parsing import cue\n",
    "from zetta_utils import builder"
   ]
  },
  {
   "cell_type": "code",
   "execution_count": 2,
   "id": "680940c7-aca5-4528-b77f-1956db03cebe",
   "metadata": {},
   "outputs": [],
   "source": [
    "zetta_utils.load_all_modules()"
   ]
  },
  {
   "cell_type": "code",
   "execution_count": 3,
   "id": "62b5ace4-43be-42e1-ae70-04623c6ca829",
   "metadata": {},
   "outputs": [],
   "source": [
    "spec = '''\n",
    "model: {\n",
    "    \"@type\": \"ConvBlock\"\n",
    "    \"@version\": \"0.0.1\"\n",
    "    num_channels: [16, 16, 16, 16, 16]\n",
    "    kernel_sizes: [3, 3, 3]\n",
    "    conv: {\n",
    "        \"@type\": \"torch.nn.Conv3d\"\n",
    "        \"@mode\": \"partial\"\n",
    "        bias: false\n",
    "    }\n",
    "    activation: {\n",
    "        \"@type\": \"torch.nn.ReLU\"\n",
    "        \"@mode\": \"partial\"\n",
    "        inplace: true\n",
    "    }\n",
    "    normalization: {\n",
    "        \"@type\": \"torch.nn.InstanceNorm3d\"\n",
    "        \"@mode\": \"partial\"\n",
    "        affine: false\n",
    "    }\n",
    "    skips: {\"1\": 3}\n",
    "    normalize_last: false\n",
    "    activate_last: false\n",
    "    paddings: [1, 1, 1]\n",
    "    activation_mode: \"pre\"\n",
    "}\n",
    "'''"
   ]
  },
  {
   "cell_type": "code",
   "execution_count": 4,
   "id": "92247ec2-7774-4af9-bca7-8e60f8310da9",
   "metadata": {},
   "outputs": [],
   "source": [
    "result = builder.build(cue.loads(spec))"
   ]
  },
  {
   "cell_type": "code",
   "execution_count": 5,
   "id": "6a6bb6b0-062f-4c26-8198-8e73ebce7ed5",
   "metadata": {},
   "outputs": [],
   "source": [
    "model = result[\"model\"]"
   ]
  },
  {
   "cell_type": "code",
   "execution_count": 6,
   "id": "d1a3173d-39bf-4cea-ab07-75c38425b8c0",
   "metadata": {},
   "outputs": [],
   "source": [
    "x = torch.randn(1, 16, 256, 256, 20)\n",
    "y = model(x)"
   ]
  },
  {
   "cell_type": "code",
   "execution_count": 7,
   "id": "9bb0202c-9be4-40a7-a809-6cd0088170ab",
   "metadata": {},
   "outputs": [
    {
     "data": {
      "text/plain": [
       "torch.Size([1, 16, 256, 256, 20])"
      ]
     },
     "execution_count": 7,
     "metadata": {},
     "output_type": "execute_result"
    }
   ],
   "source": [
    "y.shape"
   ]
  },
  {
   "cell_type": "code",
   "execution_count": 8,
   "id": "b1b24c2d-6139-4adf-92b8-96a5b88d8dda",
   "metadata": {},
   "outputs": [
    {
     "name": "stdout",
     "output_type": "stream",
     "text": [
      "============= Diagnostic Run torch.onnx.export version 2.0.1+cu117 =============\n",
      "verbose: False, log level: Level.ERROR\n",
      "======================= 0 NONE 0 NOTE 0 WARNING 0 ERROR ========================\n",
      "\n"
     ]
    },
    {
     "name": "stderr",
     "output_type": "stream",
     "text": [
      "/home/kisuk/Workbench/ZettaAI/zetta_utils/zetta_utils/convnet/architecture/convblock.py:155: TracerWarning: Converting a tensor to a Python number might cause the trace to be incorrect. We can't record the data flow of Python values, so this value will be treated as a constant in the future. This means that the trace might not generalize to other inputs!\n",
      "  size = list(map(lambda x: x.item(), result.shape))  # type: ignore\n",
      "/home/kisuk/Workbench/ZettaAI/zetta_utils/zetta_utils/tensor_ops/common.py:470: TracerWarning: Converting a tensor to a Python boolean might cause the trace to be incorrect. We can't record the data flow of Python values, so this value will be treated as a constant in the future. This means that the trace might not generalize to other inputs!\n",
      "  assert insz >= outsz\n",
      "/home/kisuk/Workbench/ZettaAI/zetta_utils/zetta_utils/tensor_ops/common.py:473: TracerWarning: Converting a tensor to a Python boolean might cause the trace to be incorrect. We can't record the data flow of Python values, so this value will be treated as a constant in the future. This means that the trace might not generalize to other inputs!\n",
      "  if rcrop != 0:\n",
      "/home/kisuk/Workbench/ZettaAI/zetta_utils/zetta_utils/tensor_ops/common.py:476: TracerWarning: Converting a tensor to a Python boolean might cause the trace to be incorrect. We can't record the data flow of Python values, so this value will be treated as a constant in the future. This means that the trace might not generalize to other inputs!\n",
      "  assert lcrop == 0\n",
      "/home/kisuk/miniconda3/envs/zetta_python3.10/lib/python3.10/site-packages/torch/onnx/symbolic_helper.py:1466: UserWarning: ONNX export mode is set to TrainingMode.EVAL, but operator 'instance_norm' is set to train=True. Exporting with train=True.\n",
      "  warnings.warn(\n"
     ]
    }
   ],
   "source": [
    "torch.onnx.export(\n",
    "    model,\n",
    "    (x, {}),\n",
    "    \"ConvBlock_new_pre.onnx\",\n",
    "    verbose=False,\n",
    "    export_params=True,\n",
    "    opset_version=11,\n",
    "    input_names=[\"input\"],\n",
    "    output_names=[\"output\"],\n",
    ")"
   ]
  },
  {
   "cell_type": "code",
   "execution_count": null,
   "id": "9ba14de4-95ab-41e4-bc89-0475053da114",
   "metadata": {},
   "outputs": [],
   "source": []
  }
 ],
 "metadata": {
  "kernelspec": {
   "display_name": "zetta_python3.10",
   "language": "python",
   "name": "zetta_python3.10"
  },
  "language_info": {
   "codemirror_mode": {
    "name": "ipython",
    "version": 3
   },
   "file_extension": ".py",
   "mimetype": "text/x-python",
   "name": "python",
   "nbconvert_exporter": "python",
   "pygments_lexer": "ipython3",
   "version": "3.10.8"
  }
 },
 "nbformat": 4,
 "nbformat_minor": 5
}
