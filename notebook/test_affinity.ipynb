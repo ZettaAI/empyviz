{
 "cells": [
  {
   "cell_type": "code",
   "execution_count": null,
   "id": "b2976676-07fc-4a47-91e9-8e89f864eba5",
   "metadata": {},
   "outputs": [],
   "source": [
    "import torch\n",
    "import zetta_utils\n",
    "from zetta_utils import tensor_ops"
   ]
  },
  {
   "cell_type": "code",
   "execution_count": null,
   "id": "d97e6cf3-4ecb-40b7-88b9-cde7cd672e93",
   "metadata": {},
   "outputs": [],
   "source": [
    "seg = torch.Tensor(\n",
    "    [\n",
    "        [\n",
    "            [1, 1, 2, 2],\n",
    "            [1, 1, 2, 4],\n",
    "            [2, 2, 3, 4],\n",
    "            [2, 3, 3, 4],\n",
    "        ],\n",
    "        [\n",
    "            [1, 1, 2, 2],\n",
    "            [1, 2, 2, 4],\n",
    "            [2, 2, 4, 4],\n",
    "            [2, 3, 4, 4],\n",
    "        ],\n",
    "    ],    \n",
    ").type(dtype=torch.int32)"
   ]
  },
  {
   "cell_type": "code",
   "execution_count": null,
   "id": "e9436b32-f6c4-4703-92d6-8cd014c96a62",
   "metadata": {},
   "outputs": [],
   "source": [
    "msk = torch.randn(seg.shape) > 0.5"
   ]
  },
  {
   "cell_type": "code",
   "execution_count": null,
   "id": "b79cae63-6e78-435b-a4ea-a87b781b5873",
   "metadata": {},
   "outputs": [],
   "source": [
    "msk"
   ]
  },
  {
   "cell_type": "code",
   "execution_count": null,
   "id": "7faf7366-0890-4b1b-9cbb-96f5493862b1",
   "metadata": {},
   "outputs": [],
   "source": [
    "affmap = tensor_ops.seg_to_affmap(seg, [1, 0, 0])"
   ]
  },
  {
   "cell_type": "code",
   "execution_count": null,
   "id": "36798ec7-16c3-4196-a6d0-659d98cf2234",
   "metadata": {},
   "outputs": [],
   "source": [
    "affmap"
   ]
  },
  {
   "cell_type": "code",
   "execution_count": null,
   "id": "ee6378ab-cc4a-4004-83e6-505794baee2c",
   "metadata": {},
   "outputs": [],
   "source": [
    "affmap, affmsk = tensor_ops.seg_to_affmap(seg, [1, 0, 0], mask=msk)"
   ]
  },
  {
   "cell_type": "code",
   "execution_count": null,
   "id": "7ab300f2-4d19-4549-b6c2-40b4b1218511",
   "metadata": {},
   "outputs": [],
   "source": [
    "affmap"
   ]
  },
  {
   "cell_type": "code",
   "execution_count": null,
   "id": "67d094a6-170b-4e2d-a451-8e90ca038bf9",
   "metadata": {},
   "outputs": [],
   "source": [
    "affmsk"
   ]
  },
  {
   "cell_type": "code",
   "execution_count": null,
   "id": "699918b5-c75d-4fda-8816-7fe4e42a37ab",
   "metadata": {},
   "outputs": [],
   "source": []
  }
 ],
 "metadata": {
  "kernelspec": {
   "display_name": "zetta_python3.9",
   "language": "python",
   "name": "zetta_python3.9"
  },
  "language_info": {
   "codemirror_mode": {
    "name": "ipython",
    "version": 3
   },
   "file_extension": ".py",
   "mimetype": "text/x-python",
   "name": "python",
   "nbconvert_exporter": "python",
   "pygments_lexer": "ipython3",
   "version": "3.9.15"
  }
 },
 "nbformat": 4,
 "nbformat_minor": 5
}
