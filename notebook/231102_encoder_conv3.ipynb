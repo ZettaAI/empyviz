{
 "cells": [
  {
   "cell_type": "code",
   "execution_count": null,
   "id": "f358123b-d637-463e-9d7b-7a60c30fb5a8",
   "metadata": {},
   "outputs": [],
   "source": [
    "import torch\n",
    "import zetta_utils\n",
    "from zetta_utils.parsing import cue\n",
    "from zetta_utils import builder"
   ]
  },
  {
   "cell_type": "code",
   "execution_count": null,
   "id": "714147d6-5a91-4c7d-aa33-98eeaf5ae21e",
   "metadata": {},
   "outputs": [],
   "source": [
    "print(torch.__version__)"
   ]
  },
  {
   "cell_type": "code",
   "execution_count": null,
   "id": "cdd53d92-3a77-4244-b0d8-b52201d1f821",
   "metadata": {},
   "outputs": [],
   "source": [
    "zetta_utils.load_all_modules()"
   ]
  },
  {
   "cell_type": "code",
   "execution_count": null,
   "id": "3e642818-f125-4d96-8635-a103949cbb3a",
   "metadata": {},
   "outputs": [],
   "source": [
    "spec = '''\n",
    "FM: 32\n",
    "\n",
    "\"model\": {\n",
    "    \"@type\": \"torch.nn.Sequential\",\n",
    "    \"modules\": [\n",
    "        {\n",
    "            \"@type\": \"ConvBlock\",\n",
    "            \"num_channels\": [1, FM],\n",
    "            \"kernel_sizes\": [5, 5],\n",
    "            \"activate_last\": true,\n",
    "        },\n",
    "        {\n",
    "            \"@type\": \"UNet\",\n",
    "            \"@version\": \"0.0.1\",\n",
    "            \"list_num_channels\": [\n",
    "                [FM, FM, FM, FM*2],\n",
    "                [FM*2, FM*2, FM*2, FM*4],\n",
    "                [FM*4, FM*4, FM*4, FM*8],\n",
    "                [FM*8, FM*8, FM*8, FM*8],\n",
    "                [FM*4, FM*4, FM*4, FM*4],\n",
    "                [FM*2, FM*2, FM*2, FM*2],\n",
    "                [FM, FM, FM, FM],\n",
    "            ],\n",
    "            \"downsample\": {\n",
    "                \"@type\": \"torch.nn.MaxPool2d\",\n",
    "                \"@mode\": \"partial\",\n",
    "                \"kernel_size\": 2,\n",
    "            },\n",
    "            \"upsample\": {\n",
    "                \"@type\": \"UpConv\",\n",
    "                \"@mode\": \"partial\",\n",
    "                \"kernel_size\": 3,\n",
    "                \"upsampler\": {\n",
    "                    \"@type\": \"torch.nn.Upsample\",\n",
    "                    \"@mode\": \"partial\",\n",
    "                    \"scale_factor\": 2,\n",
    "                    \"mode\": \"nearest\",\n",
    "                    \"align_corners\": null,\n",
    "                },\n",
    "                \"conv\": {\n",
    "                    \"@type\": \"torch.nn.Conv2d\",\n",
    "                    \"@mode\": \"partial\",\n",
    "                    \"padding\": 1,\n",
    "                },\n",
    "            },\n",
    "            \"activate_last\": true,\n",
    "            \"kernel_sizes\": [3, 3],\n",
    "            \"unet_skip_mode\": \"sum\",\n",
    "            \"skips\": {\"0\": 3},\n",
    "        },\n",
    "        {\n",
    "            \"@type\": \"torch.nn.Conv2d\",\n",
    "            \"in_channels\": FM,\n",
    "            \"out_channels\": 1,\n",
    "            \"kernel_size\": 1,\n",
    "        },\n",
    "        {\"@type\": \"torch.nn.Tanh\"},\n",
    "    ],\n",
    "}\n",
    "'''"
   ]
  },
  {
   "cell_type": "code",
   "execution_count": null,
   "id": "c84552c1-31be-47f8-9c2e-b7831180a8ac",
   "metadata": {},
   "outputs": [],
   "source": [
    "result = builder.build(cue.loads(spec))"
   ]
  },
  {
   "cell_type": "code",
   "execution_count": null,
   "id": "1f26fa57-8d06-41b5-aa6d-8b3b028eebfc",
   "metadata": {},
   "outputs": [],
   "source": [
    "model = result['model']"
   ]
  },
  {
   "cell_type": "code",
   "execution_count": null,
   "id": "0ef94198-4220-42c4-a771-dde655a3d1c9",
   "metadata": {},
   "outputs": [],
   "source": [
    "x = torch.randn([1, 1, 1024, 1024])\n",
    "y = model(x)"
   ]
  },
  {
   "cell_type": "code",
   "execution_count": null,
   "id": "3d3afcea-b2ea-4535-b888-11d3646af797",
   "metadata": {},
   "outputs": [],
   "source": [
    "torch.onnx.export(\n",
    "    model,\n",
    "    (x, {}),\n",
    "    \"encoder.onnx\",\n",
    "    verbose=False,\n",
    "    export_params=True,\n",
    "    opset_version=11,\n",
    "    input_names=[\"input\"],\n",
    "    output_names=[\"output\"],\n",
    ")"
   ]
  },
  {
   "cell_type": "code",
   "execution_count": null,
   "id": "5fbaf6f5-0ce6-4ea0-8046-b046e2e349b9",
   "metadata": {},
   "outputs": [],
   "source": []
  }
 ],
 "metadata": {
  "kernelspec": {
   "display_name": "zutils_p310_kisuk",
   "language": "python",
   "name": "zutils_p310_kisuk"
  },
  "language_info": {
   "codemirror_mode": {
    "name": "ipython",
    "version": 3
   },
   "file_extension": ".py",
   "mimetype": "text/x-python",
   "name": "python",
   "nbconvert_exporter": "python",
   "pygments_lexer": "ipython3",
   "version": "3.10.13"
  }
 },
 "nbformat": 4,
 "nbformat_minor": 5
}
