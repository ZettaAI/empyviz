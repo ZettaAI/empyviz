{
 "cells": [
  {
   "cell_type": "code",
   "execution_count": 2,
   "metadata": {},
   "outputs": [],
   "source": [
    "from cloudvolume import CloudVolume\n",
    "import numpy as np\n",
    "from copy import deepcopy"
   ]
  },
  {
   "cell_type": "code",
   "execution_count": 3,
   "metadata": {},
   "outputs": [
    {
     "name": "stderr",
     "output_type": "stream",
     "text": [
      "Downloading: 100%|██████████| 3029/3029 [00:35<00:00, 85.21it/s] \n",
      "Downloading: 100%|██████████| 3029/3029 [00:24<00:00, 123.09it/s]\n"
     ]
    }
   ],
   "source": [
    "z1_cv = CloudVolume(\"gs://dacey-human-retina-001-alignment-temp/rigid_transforms_3x3_LMedS/z-1\", fill_missing=True)\n",
    "z2_cv = CloudVolume(\"gs://dacey-human-retina-001-alignment-temp/rigid_transforms_3x3_LMedS/z-2\", fill_missing=True)\n",
    "# z1_rev_cv = CloudVolume(\"gs://dacey-human-retina-001-alignment-temp/rigid_transforms_3x3_LMedS/z1\", fill_missing=True)\n",
    "# z2_rev_cv = CloudVolume(\"gs://dacey-human-retina-001-alignment-temp/rigid_transforms_3x3_LMedS/z2\", fill_missing=True)\n",
    "\n",
    "z1 = z1_cv[:,:,:]\n",
    "z2 = z2_cv[:,:,:]\n",
    "# z1_rev = z1_rev_cv[:,:,:]\n",
    "# z2_rev = z2_rev_cv[:,:,:]"
   ]
  },
  {
   "cell_type": "code",
   "execution_count": 185,
   "metadata": {},
   "outputs": [],
   "source": [
    "###################################\n",
    "# Combine rigid transformations estimates from z-1 and z-2 to get\n",
    "# uninterrupted chain of relative rigid transformations\n",
    "###################################\n",
    "\n",
    "IDENTITY = np.eye(2, 3, order='F').reshape(2,3,1,1)\n",
    "\n",
    "# Use z-1 when existing, otherwise use z-2\n",
    "rigid_rel = np.where(np.sum(z1, axis=(0,1)) == 0, z2, z1)\n",
    "\n",
    "# Remaining gaps (likely empty section) are filled with identity\n",
    "rigid_rel[:,:,np.where(np.sum(rigid_rel, axis=(0,1)) == 0)[0]] = IDENTITY\n",
    "\n",
    "# Also need to expand the 2x3 rigid transformation to 3x3\n",
    "new_row = np.array([0, 0, 1]).reshape(1, 3, 1, 1)\n",
    "new_row_repeated = np.tile(new_row, (1, 1, rigid_rel.shape[2], 1))\n",
    "rigid_rel = np.vstack((rigid_rel, new_row_repeated), dtype=np.float64)\n",
    "\n",
    "# Start relative determined by calculating absolute transformations first\n",
    "# and picking section close to zero rotation (z=2165).\n",
    "# Translation is just to push everything a bit more into the center\n",
    "rigid_rel[:,:,0,0] = np.array(\n",
    "    [[ 0.99373507,  0.11181485, 192./512.  ],\n",
    "     [-0.11181485,  0.99373507, 32./512.  ],\n",
    "     [ 0.        ,  0.        , 1.        ]]\n",
    ")"
   ]
  },
  {
   "cell_type": "code",
   "execution_count": 186,
   "metadata": {},
   "outputs": [],
   "source": [
    "#####################################\n",
    "# Compute absolute rigid transformations\n",
    "#####################################\n",
    "\n",
    "# Compute the absolute transformations\n",
    "absolute_transforms_fwd = [rigid_rel[:, :, 0].squeeze()]\n",
    "for z in range(1, rigid_rel.shape[2]):\n",
    "    absolute_transform = np.matmul(absolute_transforms_fwd[-1], rigid_rel[:, :, z].squeeze())\n",
    "    absolute_transforms_fwd.append(absolute_transform)\n",
    "\n",
    "for z in range(len(absolute_transforms_fwd)):\n",
    "    absolute_transforms_fwd[z] = np.linalg.inv(absolute_transforms_fwd[z])\n",
    "\n"
   ]
  },
  {
   "cell_type": "code",
   "execution_count": 174,
   "metadata": {},
   "outputs": [
    {
     "data": {
      "text/plain": [
       "(array([[ 0.99372319, -0.11181351, -0.22047742],\n",
       "        [ 0.11181351,  0.99372319, -0.27638418],\n",
       "        [ 0.        ,  0.        ,  1.        ]]),\n",
       " array([[ 0.99671363, -0.080932  , -0.19746168],\n",
       "        [ 0.080932  ,  0.99671363, -0.28212666],\n",
       "        [ 0.        ,  0.        ,  1.        ]]),\n",
       " array([[ 0.99671157, -0.08095737, -0.19684708],\n",
       "        [ 0.08095737,  0.99671157, -0.28271061],\n",
       "        [ 0.        ,  0.        ,  1.        ]]))"
      ]
     },
     "execution_count": 174,
     "metadata": {},
     "output_type": "execute_result"
    }
   ],
   "source": [
    "absolute_transforms_fwd[0], absolute_transforms_fwd[1], absolute_transforms_fwd[2]"
   ]
  },
  {
   "cell_type": "code",
   "execution_count": 187,
   "metadata": {},
   "outputs": [
    {
     "name": "stderr",
     "output_type": "stream",
     "text": [
      "Uploading: 100%|██████████| 3029/3029 [00:33<00:00, 91.54it/s] \n"
     ]
    }
   ],
   "source": [
    "absolute_cv = CloudVolume(\"gs://dacey-human-retina-001-alignment-temp/rigid_transforms_3x3_LMedS/absolute\", delete_black_uploads=True, info=deepcopy(z1_cv.info), fill_missing=True)\n",
    "absolute_cv.commit_info()\n",
    "absolute_cv[:,:,1:len(absolute_transforms_fwd)+1,0] = np.array(absolute_transforms_fwd)[:, :2, :3].transpose(1, 2, 0).astype(np.float32)\n"
   ]
  },
  {
   "cell_type": "code",
   "execution_count": 179,
   "metadata": {},
   "outputs": [
    {
     "data": {
      "text/plain": [
       "array([[[ 0.99372319, -0.11181351, -0.22047742],\n",
       "        [ 0.11181351,  0.99372319, -0.27638418]],\n",
       "\n",
       "       [[ 0.99671363, -0.080932  , -0.19746168],\n",
       "        [ 0.080932  ,  0.99671363, -0.28212666]],\n",
       "\n",
       "       [[ 0.99671157, -0.08095737, -0.19684708],\n",
       "        [ 0.08095737,  0.99671157, -0.28271061]],\n",
       "\n",
       "       ...,\n",
       "\n",
       "       [[ 0.9987913 ,  0.04921285, -0.01474322],\n",
       "        [-0.04921285,  0.9987913 , -0.38784194]],\n",
       "\n",
       "       [[ 0.99879928,  0.04905047, -0.01471823],\n",
       "        [-0.04905047,  0.99879928, -0.38782827]],\n",
       "\n",
       "       [[ 0.99878801,  0.04928012, -0.01681296],\n",
       "        [-0.04928012,  0.99878801, -0.38868754]]])"
      ]
     },
     "execution_count": 179,
     "metadata": {},
     "output_type": "execute_result"
    }
   ],
   "source": [
    "np.array(absolute_transforms_fwd)[:, :2, :3]"
   ]
  }
 ],
 "metadata": {
  "kernelspec": {
   "display_name": "Python 3",
   "language": "python",
   "name": "python3"
  },
  "language_info": {
   "codemirror_mode": {
    "name": "ipython",
    "version": 3
   },
   "file_extension": ".py",
   "mimetype": "text/x-python",
   "name": "python",
   "nbconvert_exporter": "python",
   "pygments_lexer": "ipython3",
   "version": "3.9.16"
  }
 },
 "nbformat": 4,
 "nbformat_minor": 2
}
