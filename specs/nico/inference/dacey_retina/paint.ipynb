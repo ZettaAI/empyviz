{
 "cells": [
  {
   "cell_type": "code",
   "execution_count": 1,
   "metadata": {},
   "outputs": [],
   "source": [
    "from cloudvolume import CloudVolume\n",
    "import imageio"
   ]
  },
  {
   "cell_type": "code",
   "execution_count": 4,
   "metadata": {},
   "outputs": [],
   "source": [
    "RES = [320, 320, 50]\n",
    "# Z = [297,425,466,534,566,700,759,864,928,1159,1218,1288,1800,1801,1829,1965,2020,2061,2310,2824,2830,2842,2879]\n",
    "Z = [429,2842]\n",
    "\n",
    "IMG_CV = CloudVolume(\"precomputed://gs://dacey-human-retina-001-alignment-temp/rigid/img\", mip=RES, fill_missing=True, progress=False)\n",
    "DEFECT_CV = CloudVolume(\"precomputed://gs://dacey-human-retina-001-alignment-temp/rigid/defect_mask\", mip=RES, fill_missing=True, progress=False)\n",
    "# MISD1_CV = CloudVolume(\"precomputed://gs://dacey-human-retina-001-alignment-temp/pairwise/misd_raw/z-1\", mip=RES, fill_missing=True, progress=False)"
   ]
  },
  {
   "cell_type": "code",
   "execution_count": 3,
   "metadata": {},
   "outputs": [],
   "source": [
    "import numpy as np\n",
    "for z in Z:\n",
    "    img = IMG_CV[:,:,z]\n",
    "    defect = DEFECT_CV[:,:,z]\n",
    "    imageio.imwrite(f\"defects/img_z{z}.png\", img.squeeze().T)\n",
    "    imageio.imwrite(f\"defects/defect_z{z}.png\", defect.squeeze().T)"
   ]
  },
  {
   "cell_type": "code",
   "execution_count": 6,
   "metadata": {},
   "outputs": [
    {
     "name": "stderr",
     "output_type": "stream",
     "text": [
      "/tmp/ipykernel_968/1320649237.py:6: DeprecationWarning: Starting with ImageIO v3 the behavior of this function will switch to that of iio.v3.imread. To keep the current behavior (and make this warning disappear) use `import imageio.v2 as imageio` or call `imageio.v2.imread` directly.\n",
      "  defect = imageio.imread(f\"defects/defect_z{z}.png\")[:,:,0].squeeze().T\n"
     ]
    }
   ],
   "source": [
    "from copy import deepcopy\n",
    "DEFECT2_CV = CloudVolume(\"precomputed://gs://dacey-human-retina-001-alignment-temp/pairwise/misd_manual/z-1\", mip=RES, fill_missing=True, progress=False, info=deepcopy(DEFECT_CV.info))\n",
    "DEFECT2_CV.commit_info()\n",
    "for z in Z:\n",
    "    try:\n",
    "        defect = imageio.imread(f\"defects/defect_z{z}.png\")[:,:,0].squeeze().T\n",
    "    except IndexError:\n",
    "        defect = imageio.imread(f\"defects/defect_z{z}.png\").squeeze().T\n",
    "    DEFECT2_CV[:,:,z,0] = defect.reshape(1024,1024,1,1)\n",
    "    DEFECT2_CV[:,:,z+1,0] = defect.reshape(1024,1024,1,1)"
   ]
  },
  {
   "cell_type": "code",
   "execution_count": 27,
   "metadata": {},
   "outputs": [
    {
     "name": "stderr",
     "output_type": "stream",
     "text": [
      "Downloading: 100%|██████████| 4000/4000 [01:28<00:00, 45.23it/s] \n",
      "Uploading: 100%|██████████| 4000/4000 [00:45<00:00, 87.50it/s] \n"
     ]
    }
   ],
   "source": [
    "IMG_CV = CloudVolume(\"precomputed://gs://dacey-human-retina-001-alignment-temp/rigid/img\", mip=RES, fill_missing=True)\n",
    "TISSUE_CV = CloudVolume(\"precomputed://gs://dacey-human-retina-001-alignment-temp/rigid/tissue_mask\", mip=RES, fill_missing=True, info=deepcopy(DEFECT_CV.info))\n",
    "TISSUE_CV.commit_info()\n",
    "\n",
    "img = IMG_CV[:,:,:] > 0\n",
    "TISSUE_CV[:,:,:] = img.astype(np.uint8)*255"
   ]
  },
  {
   "cell_type": "code",
   "execution_count": 4,
   "metadata": {},
   "outputs": [],
   "source": [
    "RES = [640, 640, 50]\n",
    "from cloudvolume import CloudVolume\n",
    "from copy import deepcopy\n",
    "import numpy as np\n",
    "DEFECT_CV = CloudVolume(\"gs://dacey-human-retina-001-alignment-temp/rigid/defect_mask_refine\", mip=RES, fill_missing=True, progress=False)\n",
    "TISSUE_CV = CloudVolume(\"precomputed://gs://dacey-human-retina-001-alignment-temp/rigid/tissue_mask\", mip=RES, fill_missing=True, progress=False)\n",
    "TISSUE_NO_DEFECT_CV = CloudVolume(\"precomputed://gs://dacey-human-retina-001-alignment-temp/rigid/tissue_no_defect_mask\", mip=RES, fill_missing=True, progress=False)\n",
    "# TISSUE_NO_DEFECT_CV.commit_info()\n",
    "\n",
    "defects = DEFECT_CV[:,:,:] > 0\n",
    "tissue = TISSUE_CV[:,:,:] > 0\n",
    "\n",
    "tissue_no_defect = tissue & ~defects\n",
    "TISSUE_NO_DEFECT_CV[:,:,:] = tissue_no_defect.astype(np.uint8)*255"
   ]
  }
 ],
 "metadata": {
  "kernelspec": {
   "display_name": "Python 3",
   "language": "python",
   "name": "python3"
  },
  "language_info": {
   "codemirror_mode": {
    "name": "ipython",
    "version": 3
   },
   "file_extension": ".py",
   "mimetype": "text/x-python",
   "name": "python",
   "nbconvert_exporter": "python",
   "pygments_lexer": "ipython3",
   "version": "3.9.16"
  }
 },
 "nbformat": 4,
 "nbformat_minor": 2
}
