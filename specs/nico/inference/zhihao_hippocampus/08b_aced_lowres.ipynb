{
 "cells": [
  {
   "cell_type": "code",
   "execution_count": 1,
   "metadata": {},
   "outputs": [
    {
     "name": "stderr",
     "output_type": "stream",
     "text": [
      "/home/nkemnitz/zetta/zetta_utils/venv-3.11/lib/python3.11/site-packages/python_jsonschema_objects/__init__.py:113: UserWarning: Schema id not specified. Defaulting to 'self'\n",
      "  warnings.warn(\"Schema id not specified. Defaulting to 'self'\")\n"
     ]
    }
   ],
   "source": [
    "from cloudfiles import CloudFiles\n",
    "import torch\n",
    "from cloudvolume import CloudVolume\n",
    "import zetta_utils as zu\n",
    "zu.load_all_modules()"
   ]
  },
  {
   "cell_type": "code",
   "execution_count": 3,
   "metadata": {},
   "outputs": [],
   "source": [
    "ANCHOR_Z_MAP = {\n",
    "    0: 24,\n",
    "    1: 124,\n",
    "    2: 224,\n",
    "    3: 324,\n",
    "    4: 424,\n",
    "    5: 524,\n",
    "    6: 624,\n",
    "    7: 725,\n",
    "    8: 825,\n",
    "    9: 924,\n",
    "    10: 1024,\n",
    "    11: 1124,\n",
    "    12: 1224,\n",
    "    13: 1325,\n",
    "    14: 1424,\n",
    "    15: 1524,\n",
    "    16: 1624,\n",
    "    17: 1739,\n",
    "    18: 1836,\n",
    "    19: 1936,\n",
    "    20: 2036,\n",
    "    21: 2136,\n",
    "    22: 2236,\n",
    "    23: 2740,\n",
    "    24: 2840,\n",
    "    25: 2940,\n",
    "    26: 3040,\n",
    "    27: 3140,\n",
    "    28: 3240,\n",
    "    29: 3340,\n",
    "    30: 3440,\n",
    "    31: 3540,\n",
    "    32: 3640,\n",
    "    33: 3740,\n",
    "    34: 3840,\n",
    "    35: 3940,\n",
    "    36: 3993,\n",
    "}"
   ]
  },
  {
   "cell_type": "code",
   "execution_count": 5,
   "metadata": {},
   "outputs": [
    {
     "data": {
      "text/plain": [
       "{0: 24,\n",
       " 1: 124,\n",
       " 2: 224,\n",
       " 3: 324,\n",
       " 4: 424,\n",
       " 5: 524,\n",
       " 6: 624,\n",
       " 7: 725,\n",
       " 8: 825,\n",
       " 9: 924,\n",
       " 10: 1024,\n",
       " 11: 1124,\n",
       " 12: 1224,\n",
       " 13: 1325,\n",
       " 14: 1424,\n",
       " 15: 1524,\n",
       " 16: 1624,\n",
       " 17: 1739,\n",
       " 18: 1836,\n",
       " 19: 1936,\n",
       " 20: 2036,\n",
       " 21: 2136,\n",
       " 22: 2236,\n",
       " 23: 2740,\n",
       " 24: 2840,\n",
       " 25: 2940,\n",
       " 26: 3040,\n",
       " 27: 3140,\n",
       " 28: 3240,\n",
       " 29: 3340,\n",
       " 30: 3440,\n",
       " 31: 3540,\n",
       " 32: 3640,\n",
       " 33: 3740,\n",
       " 34: 3840,\n",
       " 35: 3940,\n",
       " 36: 3993}"
      ]
     },
     "execution_count": 5,
     "metadata": {},
     "output_type": "execute_result"
    }
   ],
   "source": [
    "ANCHOR_Z_MAP"
   ]
  },
  {
   "cell_type": "code",
   "execution_count": 7,
   "metadata": {},
   "outputs": [
    {
     "name": "stderr",
     "output_type": "stream",
     "text": [
      "Uploading: 100%|██████████| 1/1 [00:00<00:00,  2.24it/s]\n",
      "Uploading: 100%|██████████| 1/1 [00:00<00:00,  2.35it/s]\n",
      "Uploading: 100%|██████████| 1/1 [00:00<00:00,  2.35it/s]\n",
      "Uploading: 100%|██████████| 1/1 [00:00<00:00,  2.34it/s]\n",
      "Uploading: 100%|██████████| 1/1 [00:00<00:00,  2.43it/s]\n",
      "Uploading: 100%|██████████| 1/1 [00:00<00:00,  2.39it/s]\n",
      "Uploading: 100%|██████████| 1/1 [00:00<00:00,  2.29it/s]\n",
      "Uploading: 100%|██████████| 1/1 [00:00<00:00,  2.37it/s]\n",
      "Uploading: 100%|██████████| 1/1 [00:00<00:00,  2.40it/s]\n",
      "Uploading: 100%|██████████| 1/1 [00:00<00:00,  2.33it/s]\n",
      "Uploading: 100%|██████████| 1/1 [00:00<00:00,  2.33it/s]\n",
      "Uploading: 100%|██████████| 1/1 [00:00<00:00,  2.28it/s]\n",
      "Uploading: 100%|██████████| 1/1 [00:00<00:00,  2.32it/s]\n",
      "Uploading: 100%|██████████| 1/1 [00:00<00:00,  2.28it/s]\n",
      "Uploading: 100%|██████████| 1/1 [00:00<00:00,  2.28it/s]\n",
      "Uploading: 100%|██████████| 1/1 [00:00<00:00,  2.34it/s]\n",
      "Uploading: 100%|██████████| 1/1 [00:00<00:00,  2.18it/s]\n",
      "Uploading: 100%|██████████| 1/1 [00:00<00:00,  2.28it/s]\n",
      "Uploading: 100%|██████████| 1/1 [00:00<00:00,  2.47it/s]\n",
      "Uploading: 100%|██████████| 1/1 [00:00<00:00,  2.40it/s]\n",
      "Uploading: 100%|██████████| 1/1 [00:00<00:00,  2.47it/s]\n",
      "Uploading: 100%|██████████| 1/1 [00:00<00:00,  3.26it/s]\n",
      "Uploading: 100%|██████████| 1/1 [00:00<00:00,  1.94it/s]\n",
      "Uploading: 100%|██████████| 1/1 [00:00<00:00,  2.35it/s]\n",
      "Uploading: 100%|██████████| 1/1 [00:00<00:00,  2.52it/s]\n",
      "Uploading: 100%|██████████| 1/1 [00:00<00:00,  2.51it/s]\n",
      "Uploading: 100%|██████████| 1/1 [00:00<00:00,  3.00it/s]\n",
      "Uploading: 100%|██████████| 1/1 [00:00<00:00,  2.37it/s]\n",
      "Uploading: 100%|██████████| 1/1 [00:00<00:00,  2.51it/s]\n",
      "Uploading: 100%|██████████| 1/1 [00:00<00:00,  3.17it/s]\n",
      "Uploading: 100%|██████████| 1/1 [00:00<00:00,  2.31it/s]\n",
      "Uploading: 100%|██████████| 1/1 [00:00<00:00,  2.29it/s]\n",
      "Uploading: 100%|██████████| 1/1 [00:00<00:00,  2.12it/s]\n",
      "Uploading: 100%|██████████| 1/1 [00:00<00:00,  3.19it/s]\n",
      "Uploading: 100%|██████████| 1/1 [00:00<00:00,  2.31it/s]\n",
      "Uploading: 100%|██████████| 1/1 [00:00<00:00,  2.44it/s]\n",
      "Uploading: 100%|██████████| 1/1 [00:00<00:00,  3.10it/s]\n"
     ]
    }
   ],
   "source": [
    "\n",
    "field_inv_cv = CloudVolume(\"gs://zetta-research-nico/hippocampus/rigid_w_scale/low_res_enc_c4_rigid\", mip=[6144,6144,45], fill_missing=True, progress=False)\n",
    "field_inv_small_cv = CloudVolume(\"gs://zetta-research-nico/hippocampus/rigid_w_scale/low_res_enc_c4_rigid_100th\", mip=[6144,6144,45], delete_black_uploads=True, cdn_cache=False)\n",
    "field_inv_small_cv.info['scales'][0]['size'] = [256, 256, 37]\n",
    "field_inv_small_cv.info['scales'][0]['voxel_offset'] = [0, 0, 0]\n",
    "field_inv_small_cv.commit_info()\n",
    "\n",
    "for dst_z, src_z in ANCHOR_Z_MAP.items():\n",
    "    field_inv_small_cv[:,:,dst_z,:] = field_inv_cv[:,:,src_z,:]\n",
    "\n"
   ]
  },
  {
   "cell_type": "code",
   "execution_count": null,
   "metadata": {},
   "outputs": [],
   "source": [
    "from zetta_utils.alignment.aced_relaxation import perform_aced_relaxation\n",
    "perform_aced_relaxation(\n",
    "    match_offsets=(\n",
    "        torch.ones((1,1,128,128,35))\n",
    "    ),\n",
    "    pfields={\n",
    "        \"-1\": field_inv_cv\n",
    "    },\n",
    "    num_iter=4000,\n",
    "    lr=1e-4,\n",
    "    rigidity_weight=1e-3,\n",
    "    fix='first',\n",
    "    max_dist=1,\n",
    ")"
   ]
  },
  {
   "cell_type": "code",
   "execution_count": 10,
   "metadata": {},
   "outputs": [
    {
     "name": "stderr",
     "output_type": "stream",
     "text": [
      "Uploading: 100%|██████████| 1/1 [00:00<00:00,  1.19it/s]\n",
      "Uploading: 100%|██████████| 1/1 [00:00<00:00,  1.23it/s]\n",
      "Uploading: 100%|██████████| 1/1 [00:00<00:00,  1.18it/s]\n",
      "Uploading: 100%|██████████| 1/1 [00:00<00:00,  1.18it/s]\n",
      "Uploading: 100%|██████████| 1/1 [00:00<00:00,  1.21it/s]\n",
      "Uploading: 100%|██████████| 1/1 [00:00<00:00,  1.21it/s]\n",
      "Uploading: 100%|██████████| 1/1 [00:00<00:00,  1.22it/s]\n",
      "Uploading: 100%|██████████| 1/1 [00:00<00:00,  1.21it/s]\n",
      "Uploading: 100%|██████████| 1/1 [00:00<00:00,  1.17it/s]\n",
      "Uploading: 100%|██████████| 1/1 [00:00<00:00,  1.16it/s]\n",
      "Uploading: 100%|██████████| 1/1 [00:00<00:00,  1.17it/s]\n",
      "Uploading: 100%|██████████| 1/1 [00:00<00:00,  1.17it/s]\n",
      "Uploading: 100%|██████████| 1/1 [00:00<00:00,  1.18it/s]\n",
      "Uploading: 100%|██████████| 1/1 [00:00<00:00,  1.16it/s]\n",
      "Uploading: 100%|██████████| 1/1 [00:00<00:00,  1.20it/s]\n",
      "Uploading: 100%|██████████| 1/1 [00:00<00:00,  1.19it/s]\n",
      "Uploading: 100%|██████████| 1/1 [00:00<00:00,  1.21it/s]\n",
      "Uploading: 100%|██████████| 1/1 [00:00<00:00,  1.21it/s]\n",
      "Uploading: 100%|██████████| 1/1 [00:00<00:00,  1.66it/s]\n",
      "Uploading: 100%|██████████| 1/1 [00:00<00:00,  1.24it/s]\n",
      "Uploading: 100%|██████████| 1/1 [00:00<00:00,  1.24it/s]\n",
      "Uploading: 100%|██████████| 1/1 [00:00<00:00,  1.23it/s]\n",
      "Uploading: 100%|██████████| 1/1 [00:00<00:00,  2.31it/s]\n",
      "Uploading: 100%|██████████| 1/1 [00:00<00:00,  1.21it/s]\n",
      "Uploading: 100%|██████████| 1/1 [00:00<00:00,  1.66it/s]\n",
      "Uploading: 100%|██████████| 1/1 [00:00<00:00,  1.24it/s]\n",
      "Uploading: 100%|██████████| 1/1 [00:00<00:00,  1.16it/s]\n",
      "Uploading: 100%|██████████| 1/1 [00:00<00:00,  1.18it/s]\n",
      "Uploading: 100%|██████████| 1/1 [00:00<00:00,  1.25it/s]\n",
      "Uploading: 100%|██████████| 1/1 [00:00<00:00,  1.21it/s]\n",
      "Uploading: 100%|██████████| 1/1 [00:00<00:00,  1.63it/s]\n",
      "Uploading: 100%|██████████| 1/1 [00:00<00:00,  1.61it/s]\n",
      "Uploading: 100%|██████████| 1/1 [00:00<00:00,  1.26it/s]\n",
      "Uploading: 100%|██████████| 1/1 [00:00<00:00,  1.42it/s]\n",
      "Uploading: 100%|██████████| 1/1 [00:00<00:00,  1.18it/s]\n",
      "Uploading: 100%|██████████| 1/1 [00:00<00:00,  1.17it/s]\n",
      "Uploading: 100%|██████████| 1/1 [00:00<00:00,  1.21it/s]\n"
     ]
    }
   ],
   "source": [
    "from copy import deepcopy\n",
    "field_aced_condensed_cv = CloudVolume(\"gs://zetta-research-nico/hippocampus/aced_coarse_100th_w_scale/afield_try_12288nm_iter20000_rig300_lr0.0001_final\", mip=[12288,12288,45], fill_missing=True, progress=False)\n",
    "# field_aced_cv_info = deepcopy(CloudVolume(\"gs://zetta-research-nico/hippocampus/aced_coarse/coarse_anchors/field\",  delete_black_uploads=True, cdn_cache=False).info)\n",
    "# field_aced_cv = CloudVolume(\"gs://zetta-research-nico/hippocampus/aced_coarse_w_scale/coarse_anchors/field\",  delete_black_uploads=True, cdn_cache=False, info=field_aced_cv_info)\n",
    "#field_aced_cv.commit_info()\n",
    "#field_aced_cv.add_scale([2,2,1], chunk_size=[128,128,1])\n",
    "#field_aced_cv.commit_info()\n",
    "field_aced_cv = CloudVolume(\"gs://zetta-research-nico/hippocampus/aced_coarse_w_scale/coarse_anchors/field\", mip=[12288,12288,45], delete_black_uploads=True, cdn_cache=False)\n",
    "\n",
    "for src_z, dst_z in ANCHOR_Z_MAP.items():\n",
    "    field_aced_cv[:,:,dst_z,:] = field_aced_condensed_cv[:,:,src_z,:]"
   ]
  },
  {
   "cell_type": "code",
   "execution_count": 26,
   "metadata": {},
   "outputs": [
    {
     "name": "stderr",
     "output_type": "stream",
     "text": [
      "Downloading: 100%|██████████| 1/1 [00:00<00:00,  1.23it/s]\n",
      "Uploading: 100%|██████████| 1/1 [00:00<00:00,  1.18it/s]\n"
     ]
    }
   ],
   "source": [
    "field_aced_cv[:,:,2236] = field_aced_cv[:,:,2740]"
   ]
  }
 ],
 "metadata": {
  "kernelspec": {
   "display_name": "Python 3",
   "language": "python",
   "name": "python3"
  },
  "language_info": {
   "codemirror_mode": {
    "name": "ipython",
    "version": 3
   },
   "file_extension": ".py",
   "mimetype": "text/x-python",
   "name": "python",
   "nbconvert_exporter": "python",
   "pygments_lexer": "ipython3",
   "version": "3.11.7"
  }
 },
 "nbformat": 4,
 "nbformat_minor": 2
}
