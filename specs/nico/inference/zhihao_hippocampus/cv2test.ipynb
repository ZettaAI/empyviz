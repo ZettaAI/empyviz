{
 "cells": [
  {
   "cell_type": "code",
   "execution_count": 3,
   "metadata": {},
   "outputs": [],
   "source": [
    "import cv2\n",
    "import numpy as np"
   ]
  },
  {
   "cell_type": "code",
   "execution_count": 30,
   "metadata": {},
   "outputs": [],
   "source": [
    "def generate_transformed_image(src, transform_matrix):\n",
    "    rows, cols = src.shape\n",
    "    dst = cv2.warpAffine(src, transform_matrix, (cols, rows))\n",
    "    return dst\n",
    "\n",
    "def add_imperfections_to_points(points, variance=0.05):\n",
    "    \"\"\"\n",
    "    Add slight random variations to the points to simulate imperfections in feature matching.\n",
    "    \n",
    "    Parameters:\n",
    "        points (np.array): The original points.\n",
    "        variance (float): The variance of the Gaussian noise to be added.\n",
    "        \n",
    "    Returns:\n",
    "        np.array: The points with added imperfections.\n",
    "    \"\"\"\n",
    "    noise = np.random.normal(0, variance, points.shape)\n",
    "    return points + noise"
   ]
  },
  {
   "cell_type": "code",
   "execution_count": 33,
   "metadata": {},
   "outputs": [],
   "source": [
    "# Initialize a synthetic image\n",
    "src = np.zeros((100, 100), dtype=np.uint8)\n",
    "cv2.rectangle(src, (30, 30), (70, 70), 255, thickness=-1)\n",
    "\n",
    "# Define a small rotation and translation transformation\n",
    "angle = 0.0  # 1 degree\n",
    "scale = np.random.rand(3000) * 0.08 + 0.96\n",
    "scale = scale / scale.mean()\n",
    "center = (src.shape[1] / 2, src.shape[0] / 2)\n"
   ]
  },
  {
   "cell_type": "code",
   "execution_count": 34,
   "metadata": {},
   "outputs": [
    {
     "data": {
      "text/plain": [
       "0.45239678147258433"
      ]
     },
     "execution_count": 34,
     "metadata": {},
     "output_type": "execute_result"
    }
   ],
   "source": [
    "from math import prod\n",
    "prod(scale)"
   ]
  },
  {
   "cell_type": "code",
   "execution_count": 72,
   "metadata": {},
   "outputs": [
    {
     "name": "stdout",
     "output_type": "stream",
     "text": [
      "Cumulative Transformation Matrix:\n",
      " [[ 3.99621337e-01 -7.93277779e-04  2.97830086e+01]\n",
      " [ 7.93277779e-04  3.99621337e-01  2.92732501e+01]]\n"
     ]
    }
   ],
   "source": [
    "cumulative_transform = np.eye(2, 3, dtype=np.float32)  # Initialize cumulative transformation matrix\n",
    "for i in range(3000):\n",
    "    # Generate transformed image\n",
    "    rotation_matrix = cv2.getRotationMatrix2D(center, angle, scale[i])\n",
    "    dst = generate_transformed_image(src, rotation_matrix)\n",
    "    \n",
    "    # Simulate perfect feature matching\n",
    "    src_points = np.array([[30, 30], [30, 70], [70, 70], [70, 30]], dtype=np.float32)\n",
    "    perfect_dst_points = np.float32([cv2.transform(np.array([[p]], dtype=np.float32), rotation_matrix)[0][0] for p in src_points])\n",
    "    imperfect_dst_points = add_imperfections_to_points(perfect_dst_points, variance=0.05)  # Add imperfections\n",
    "\n",
    "\n",
    "    # Estimate transformation from src to dst\n",
    "    estimated_transform, inliers = cv2.estimateAffinePartial2D(src_points, imperfect_dst_points)\n",
    "    \n",
    "    if estimated_transform is not None:\n",
    "        # Correctly extend the 2x3 affine transformation matrix to a 3x3 matrix for proper matrix multiplication\n",
    "        extended_estimated_transform = np.vstack([estimated_transform, [0, 0, 1]])\n",
    "        \n",
    "        # Update the cumulative transformation matrix\n",
    "        cumulative_transform_extended = np.vstack([cumulative_transform, [0, 0, 1]])\n",
    "        cumulative_transform = np.dot(extended_estimated_transform, cumulative_transform_extended)\n",
    "        cumulative_transform = cumulative_transform[:2, :]\n",
    "    \n",
    "    src = dst.copy()\n",
    "\n",
    "# Print the cumulative transformation matrix\n",
    "print(\"Cumulative Transformation Matrix:\\n\", cumulative_transform)"
   ]
  },
  {
   "cell_type": "code",
   "execution_count": 15,
   "metadata": {},
   "outputs": [
    {
     "data": {
      "text/plain": [
       "(2, 3)"
      ]
     },
     "execution_count": 15,
     "metadata": {},
     "output_type": "execute_result"
    }
   ],
   "source": [
    "estimated_transform.shape"
   ]
  }
 ],
 "metadata": {
  "kernelspec": {
   "display_name": "Python 3",
   "language": "python",
   "name": "python3"
  },
  "language_info": {
   "codemirror_mode": {
    "name": "ipython",
    "version": 3
   },
   "file_extension": ".py",
   "mimetype": "text/x-python",
   "name": "python",
   "nbconvert_exporter": "python",
   "pygments_lexer": "ipython3",
   "version": "3.11.7"
  }
 },
 "nbformat": 4,
 "nbformat_minor": 2
}
